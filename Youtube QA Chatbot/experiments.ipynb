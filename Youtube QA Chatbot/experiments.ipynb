{
 "cells": [
  {
   "cell_type": "code",
   "execution_count": 1,
   "metadata": {},
   "outputs": [],
   "source": [
    "from dotenv import load_dotenv\n",
    "load_dotenv()\n"
   ]
  },
  {
   "cell_type": "code",
   "execution_count": 5,
   "metadata": {},
   "outputs": [],
   "source": [
    "from langchain.prompts import PromptTemplate\n",
    "from langchain.document_loaders import YoutubeLoader\n",
    "from langchain.vectorstores import FAISS\n",
    "from langchain.chains import LLMChain\n",
    "from langchain_text_splitters import RecursiveCharacterTextSplitter"
   ]
  },
  {
   "cell_type": "code",
   "execution_count": 6,
   "metadata": {},
   "outputs": [],
   "source": [
    "from langchain_google_genai import ChatGoogleGenerativeAI,GoogleGenerativeAIEmbeddings\n",
    "embeddings=GoogleGenerativeAIEmbeddings(model='models/embedding-001')"
   ]
  },
  {
   "cell_type": "code",
   "execution_count": 15,
   "metadata": {},
   "outputs": [],
   "source": [
    "def create_db(url):\n",
    "    loader=YoutubeLoader(url,language=['en','en-US'])\n",
    "    transcript=loader.load()\n",
    "    text_splitter=RecursiveCharacterTextSplitter(chunk_size=1000,chunk_overlap=200)\n",
    "    docs=text_splitter.split_documents(transcript)\n",
    "    embeddings=GoogleGenerativeAIEmbeddings(model='models/embedding-001')\n",
    "    db=FAISS.from_documents(docs,embeddings)\n",
    "    return db"
   ]
  },
  {
   "cell_type": "code",
   "execution_count": 18,
   "metadata": {},
   "outputs": [],
   "source": [
    "def create_chain():\n",
    "    prompt = PromptTemplate(\n",
    "        input_variables=[\"question\", \"docs\"],\n",
    "        template=\"\"\"\n",
    "        You are a helpful assistant that that can answer questions about youtube videos\n",
    "        based on the video's transcript.\n",
    "\n",
    "        Answer the following question: {question}\n",
    "        By searching the following video transcript: {docs}\n",
    "\n",
    "        Only use the factual information from the transcript to answer the question.\n",
    "\n",
    "        If you feel like you don't have enough information to answer the question, say \"I don't know\".\n",
    "\n",
    "        Your answers should be verbose and detailed.\n",
    "        \"\"\")\n",
    "    \n",
    "    llm=ChatGoogleGenerativeAI(model='gemini-pro',\n",
    "                           temperature=0.7,\n",
    "                           top_p=0.85)\n",
    "    \n",
    "    chain=LLMChain(llm=llm,prompt=prompt)\n",
    "    return chain"
   ]
  },
  {
   "cell_type": "code",
   "execution_count": 9,
   "metadata": {},
   "outputs": [],
   "source": [
    "def run_chain(query,chain,db):\n",
    "    docs=db.similarity_search(query,10)\n",
    "    docs_page_content=\" \".join([d.page_content for d in docs])\n",
    "\n",
    "    response=chain.run(question=query,docs=docs_page_content)\n",
    "    return response"
   ]
  },
  {
   "cell_type": "code",
   "execution_count": 16,
   "metadata": {},
   "outputs": [],
   "source": [
    "url=\"Vxw0nE1qfZc\"\n",
    "db=create_db(url)"
   ]
  },
  {
   "cell_type": "code",
   "execution_count": 19,
   "metadata": {},
   "outputs": [],
   "source": [
    "chain=create_chain()"
   ]
  },
  {
   "cell_type": "code",
   "execution_count": 20,
   "metadata": {},
   "outputs": [
    {
     "data": {
      "text/plain": [
       "'This video talks about the differences between data science and AI engineering. Data scientists are described as data storytellers who use mathematical models to translate messy real world data into insights, while AI engineers are described as AI system builders who use foundation models to build generative AI systems that help to transform business processes. The video also discusses the different use cases, data types, models, and processes that are used in each field.'"
      ]
     },
     "execution_count": 20,
     "metadata": {},
     "output_type": "execute_result"
    }
   ],
   "source": [
    "run_chain(query=\"What does video talk about?\",db=db,chain=chain)"
   ]
  },
  {
   "cell_type": "code",
   "execution_count": null,
   "metadata": {},
   "outputs": [],
   "source": []
  }
 ],
 "metadata": {
  "kernelspec": {
   "display_name": "langEnv",
   "language": "python",
   "name": "python3"
  },
  "language_info": {
   "codemirror_mode": {
    "name": "ipython",
    "version": 3
   },
   "file_extension": ".py",
   "mimetype": "text/x-python",
   "name": "python",
   "nbconvert_exporter": "python",
   "pygments_lexer": "ipython3",
   "version": "3.11.6"
  }
 },
 "nbformat": 4,
 "nbformat_minor": 2
}
