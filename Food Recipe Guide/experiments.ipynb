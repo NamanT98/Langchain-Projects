{
 "cells": [
  {
   "cell_type": "code",
   "execution_count": 1,
   "metadata": {},
   "outputs": [
    {
     "data": {
      "text/plain": [
       "True"
      ]
     },
     "execution_count": 1,
     "metadata": {},
     "output_type": "execute_result"
    }
   ],
   "source": [
    "import dotenv\n",
    "\n",
    "dotenv.load_dotenv()"
   ]
  },
  {
   "cell_type": "code",
   "execution_count": 2,
   "metadata": {},
   "outputs": [],
   "source": [
    "from youtube_search import YoutubeSearch"
   ]
  },
  {
   "cell_type": "code",
   "execution_count": 9,
   "metadata": {},
   "outputs": [],
   "source": [
    "results = YoutubeSearch(search_terms=\"French Fries recipe\", max_results=5).to_dict()"
   ]
  },
  {
   "cell_type": "code",
   "execution_count": 10,
   "metadata": {},
   "outputs": [
    {
     "data": {
      "text/plain": [
       "[{'id': 'lB8dMNj7JMA',\n",
       "  'thumbnails': ['https://i.ytimg.com/vi/lB8dMNj7JMA/hq720.jpg?sqp=-oaymwEjCOgCEMoBSFryq4qpAxUIARUAAAAAGAElAADIQj0AgKJDeAE=&rs=AOn4CLAzatr08D6mlvr0z-mS0zgb3z57eA',\n",
       "   'https://i.ytimg.com/vi/lB8dMNj7JMA/hq720.jpg?sqp=-oaymwEXCNAFEJQDSFryq4qpAwkIARUAAIhCGAE=&rs=AOn4CLDtW9cgBafXJYOxRewotwvIDxar7g'],\n",
       "  'title': 'French Fries | Homemade Peri Peri Masala | Crispy French Fries | फ्रेंच फ्राइज | Chef Sanjyot Keer',\n",
       "  'long_desc': None,\n",
       "  'channel': 'Your Food Lab',\n",
       "  'duration': '13:30',\n",
       "  'views': '3,689,866 views',\n",
       "  'publish_time': '2 years ago',\n",
       "  'url_suffix': '/watch?v=lB8dMNj7JMA&pp=ygUTRnJlbmNoIEZyaWVzIHJlY2lwZQ%3D%3D'},\n",
       " {'id': 'erXCGdoBrtI',\n",
       "  'thumbnails': ['https://i.ytimg.com/vi/erXCGdoBrtI/hqdefault.jpg?sqp=-oaymwEjCOADEI4CSFryq4qpAxUIARUAAAAAGAElAADIQj0AgKJDeAE=&rs=AOn4CLDQdwCGD2HvRRB3ZqDSqWZ2v7VcKQ'],\n",
       "  'title': '15 Mins में बनाये McDONALDS जैसे FRENCH FRIES घर पे - मेहमान भी पहचान नहीं पाएंगे -CRISPY ALOO FRIES',\n",
       "  'long_desc': None,\n",
       "  'channel': 'bharatzkitchen HINDI',\n",
       "  'duration': '10:48',\n",
       "  'views': '1,048,780 views',\n",
       "  'publish_time': '9 months ago',\n",
       "  'url_suffix': '/watch?v=erXCGdoBrtI&pp=ygUTRnJlbmNoIEZyaWVzIHJlY2lwZQ%3D%3D'},\n",
       " {'id': 'aUOlhdmzfpg',\n",
       "  'thumbnails': ['https://i.ytimg.com/vi/aUOlhdmzfpg/hq720.jpg?sqp=-oaymwEjCOgCEMoBSFryq4qpAxUIARUAAAAAGAElAADIQj0AgKJDeAE=&rs=AOn4CLAyD8a0p05vGHghd-MWE-sVW0U_qg',\n",
       "   'https://i.ytimg.com/vi/aUOlhdmzfpg/hq720.jpg?sqp=-oaymwEXCNAFEJQDSFryq4qpAwkIARUAAIhCGAE=&rs=AOn4CLDmnqLZXiQNwBCwSNtSwb-fD9cOUA'],\n",
       "  'title': 'French Fries | फ्रेंच फ्राइज | Secret of perfect French Fries at home | Chef Ranveer Brar',\n",
       "  'long_desc': None,\n",
       "  'channel': 'Chef Ranveer Brar',\n",
       "  'duration': '7:57',\n",
       "  'views': '4,169,392 views',\n",
       "  'publish_time': '5 years ago',\n",
       "  'url_suffix': '/watch?v=aUOlhdmzfpg&pp=ygUTRnJlbmNoIEZyaWVzIHJlY2lwZQ%3D%3D'},\n",
       " {'id': 'BCFoDfESF3Y',\n",
       "  'thumbnails': ['https://i.ytimg.com/vi/BCFoDfESF3Y/hq720.jpg?sqp=-oaymwEjCOgCEMoBSFryq4qpAxUIARUAAAAAGAElAADIQj0AgKJDeAE=&rs=AOn4CLApg9jAzuk6v0bdcBa5BdugQBz8dw',\n",
       "   'https://i.ytimg.com/vi/BCFoDfESF3Y/hq720.jpg?sqp=-oaymwEXCNAFEJQDSFryq4qpAwkIARUAAIhCGAE=&rs=AOn4CLCARem18UcIIgwpilqrOuWokez_gQ'],\n",
       "  'title': 'homemade crispy perfect french fries recipe with tips & tricks | crispy finger chips',\n",
       "  'long_desc': None,\n",
       "  'channel': 'Hebbars Kitchen',\n",
       "  'duration': '3:34',\n",
       "  'views': '6,380,171 views',\n",
       "  'publish_time': '4 years ago',\n",
       "  'url_suffix': '/watch?v=BCFoDfESF3Y&pp=ygUTRnJlbmNoIEZyaWVzIHJlY2lwZQ%3D%3D'},\n",
       " {'id': 'moaD22jhXo0',\n",
       "  'thumbnails': ['https://i.ytimg.com/vi/moaD22jhXo0/hq720.jpg?sqp=-oaymwEjCOgCEMoBSFryq4qpAxUIARUAAAAAGAElAADIQj0AgKJDeAE=&rs=AOn4CLDGp7EMpvQEj08sBuuWOAxPgDwksw',\n",
       "   'https://i.ytimg.com/vi/moaD22jhXo0/hq720.jpg?sqp=-oaymwEXCNAFEJQDSFryq4qpAwkIARUAAIhCGAE=&rs=AOn4CLC3ovK562S7A3ywRCu03uVQV3Or8A'],\n",
       "  'title': 'How to make French Fries | Crispy Homemade Recipe Restaurant Style | Kunal Kapur Veg Snacks Recipe',\n",
       "  'long_desc': None,\n",
       "  'channel': 'Kunal Kapur',\n",
       "  'duration': '3:22',\n",
       "  'views': '3,618,194 views',\n",
       "  'publish_time': '6 years ago',\n",
       "  'url_suffix': '/watch?v=moaD22jhXo0&pp=ygUTRnJlbmNoIEZyaWVzIHJlY2lwZQ%3D%3D'}]"
      ]
     },
     "execution_count": 10,
     "metadata": {},
     "output_type": "execute_result"
    }
   ],
   "source": [
    "results"
   ]
  },
  {
   "cell_type": "code",
   "execution_count": 5,
   "metadata": {},
   "outputs": [],
   "source": [
    "from langchain_community.document_loaders import YoutubeLoader\n",
    "import textwrap"
   ]
  },
  {
   "cell_type": "code",
   "execution_count": null,
   "metadata": {},
   "outputs": [
    {
     "ename": "NoTranscriptFound",
     "evalue": "\nCould not retrieve a transcript for the video https://www.youtube.com/watch?v=lB8dMNj7JMA! This is most likely caused by:\n\nNo transcripts were found for any of the requested language codes: ['en']\n\nFor this video (lB8dMNj7JMA) transcripts are available in the following languages:\n\n(MANUALLY CREATED)\n - en-GB (\"English (United Kingdom)\")[TRANSLATABLE]\n\n(GENERATED)\n - hi (\"Hindi (auto-generated)\")[TRANSLATABLE]\n\n(TRANSLATION LANGUAGES)\n - ab (\"Abkhazian\")\n - aa (\"Afar\")\n - af (\"Afrikaans\")\n - ak (\"Akan\")\n - sq (\"Albanian\")\n - am (\"Amharic\")\n - ar (\"Arabic\")\n - hy (\"Armenian\")\n - as (\"Assamese\")\n - ay (\"Aymara\")\n - az (\"Azerbaijani\")\n - bn (\"Bangla\")\n - ba (\"Bashkir\")\n - eu (\"Basque\")\n - be (\"Belarusian\")\n - bho (\"Bhojpuri\")\n - bs (\"Bosnian\")\n - br (\"Breton\")\n - bg (\"Bulgarian\")\n - my (\"Burmese\")\n - ca (\"Catalan\")\n - ceb (\"Cebuano\")\n - zh-Hans (\"Chinese (Simplified)\")\n - zh-Hant (\"Chinese (Traditional)\")\n - co (\"Corsican\")\n - hr (\"Croatian\")\n - cs (\"Czech\")\n - da (\"Danish\")\n - dv (\"Divehi\")\n - nl (\"Dutch\")\n - dz (\"Dzongkha\")\n - en (\"English\")\n - eo (\"Esperanto\")\n - et (\"Estonian\")\n - ee (\"Ewe\")\n - fo (\"Faroese\")\n - fj (\"Fijian\")\n - fil (\"Filipino\")\n - fi (\"Finnish\")\n - fr (\"French\")\n - gaa (\"Ga\")\n - gl (\"Galician\")\n - lg (\"Ganda\")\n - ka (\"Georgian\")\n - de (\"German\")\n - el (\"Greek\")\n - gn (\"Guarani\")\n - gu (\"Gujarati\")\n - ht (\"Haitian Creole\")\n - ha (\"Hausa\")\n - haw (\"Hawaiian\")\n - iw (\"Hebrew\")\n - hi (\"Hindi\")\n - hmn (\"Hmong\")\n - hu (\"Hungarian\")\n - is (\"Icelandic\")\n - ig (\"Igbo\")\n - id (\"Indonesian\")\n - iu (\"Inuktitut\")\n - ga (\"Irish\")\n - it (\"Italian\")\n - ja (\"Japanese\")\n - jv (\"Javanese\")\n - kl (\"Kalaallisut\")\n - kn (\"Kannada\")\n - kk (\"Kazakh\")\n - kha (\"Khasi\")\n - km (\"Khmer\")\n - rw (\"Kinyarwanda\")\n - ko (\"Korean\")\n - kri (\"Krio\")\n - ku (\"Kurdish\")\n - ky (\"Kyrgyz\")\n - lo (\"Lao\")\n - la (\"Latin\")\n - lv (\"Latvian\")\n - ln (\"Lingala\")\n - lt (\"Lithuanian\")\n - lua (\"Luba-Lulua\")\n - luo (\"Luo\")\n - lb (\"Luxembourgish\")\n - mk (\"Macedonian\")\n - mg (\"Malagasy\")\n - ms (\"Malay\")\n - ml (\"Malayalam\")\n - mt (\"Maltese\")\n - gv (\"Manx\")\n - mi (\"Māori\")\n - mr (\"Marathi\")\n - mn (\"Mongolian\")\n - mfe (\"Morisyen\")\n - ne (\"Nepali\")\n - new (\"Newari\")\n - nso (\"Northern Sotho\")\n - no (\"Norwegian\")\n - ny (\"Nyanja\")\n - oc (\"Occitan\")\n - or (\"Odia\")\n - om (\"Oromo\")\n - os (\"Ossetic\")\n - pam (\"Pampanga\")\n - ps (\"Pashto\")\n - fa (\"Persian\")\n - pl (\"Polish\")\n - pt (\"Portuguese\")\n - pt-PT (\"Portuguese (Portugal)\")\n - pa (\"Punjabi\")\n - qu (\"Quechua\")\n - ro (\"Romanian\")\n - rn (\"Rundi\")\n - ru (\"Russian\")\n - sm (\"Samoan\")\n - sg (\"Sango\")\n - sa (\"Sanskrit\")\n - gd (\"Scottish Gaelic\")\n - sr (\"Serbian\")\n - crs (\"Seselwa Creole French\")\n - sn (\"Shona\")\n - sd (\"Sindhi\")\n - si (\"Sinhala\")\n - sk (\"Slovak\")\n - sl (\"Slovenian\")\n - so (\"Somali\")\n - st (\"Southern Sotho\")\n - es (\"Spanish\")\n - su (\"Sundanese\")\n - sw (\"Swahili\")\n - ss (\"Swati\")\n - sv (\"Swedish\")\n - tg (\"Tajik\")\n - ta (\"Tamil\")\n - tt (\"Tatar\")\n - te (\"Telugu\")\n - th (\"Thai\")\n - bo (\"Tibetan\")\n - ti (\"Tigrinya\")\n - to (\"Tongan\")\n - ts (\"Tsonga\")\n - tn (\"Tswana\")\n - tum (\"Tumbuka\")\n - tr (\"Turkish\")\n - tk (\"Turkmen\")\n - uk (\"Ukrainian\")\n - ur (\"Urdu\")\n - ug (\"Uyghur\")\n - uz (\"Uzbek\")\n - ve (\"Venda\")\n - vi (\"Vietnamese\")\n - war (\"Waray\")\n - cy (\"Welsh\")\n - fy (\"Western Frisian\")\n - wo (\"Wolof\")\n - xh (\"Xhosa\")\n - yi (\"Yiddish\")\n - yo (\"Yoruba\")\n - zu (\"Zulu\")\n\nIf you are sure that the described cause is not responsible for this error and that a transcript should be retrievable, please create an issue at https://github.com/jdepoix/youtube-transcript-api/issues. Please add which version of youtube_transcript_api you are using and provide the information needed to replicate the error. Also make sure that there are no open issues which already describe your problem!",
     "output_type": "error",
     "traceback": [
      "\u001b[0;31m---------------------------------------------------------------------------\u001b[0m",
      "\u001b[0;31mNoTranscriptFound\u001b[0m                         Traceback (most recent call last)",
      "File \u001b[0;32m~/miniconda3/envs/langchain/lib/python3.12/site-packages/langchain_community/document_loaders/youtube.py:266\u001b[0m, in \u001b[0;36mYoutubeLoader.load\u001b[0;34m(self)\u001b[0m\n\u001b[1;32m    265\u001b[0m \u001b[38;5;28;01mtry\u001b[39;00m:\n\u001b[0;32m--> 266\u001b[0m     transcript \u001b[38;5;241m=\u001b[39m \u001b[43mtranscript_list\u001b[49m\u001b[38;5;241;43m.\u001b[39;49m\u001b[43mfind_transcript\u001b[49m\u001b[43m(\u001b[49m\u001b[38;5;28;43mself\u001b[39;49m\u001b[38;5;241;43m.\u001b[39;49m\u001b[43mlanguage\u001b[49m\u001b[43m)\u001b[49m\n\u001b[1;32m    267\u001b[0m \u001b[38;5;28;01mexcept\u001b[39;00m NoTranscriptFound:\n",
      "File \u001b[0;32m~/miniconda3/envs/langchain/lib/python3.12/site-packages/youtube_transcript_api/_transcripts.py:198\u001b[0m, in \u001b[0;36mTranscriptList.find_transcript\u001b[0;34m(self, language_codes)\u001b[0m\n\u001b[1;32m    185\u001b[0m \u001b[38;5;250m\u001b[39m\u001b[38;5;124;03m\"\"\"\u001b[39;00m\n\u001b[1;32m    186\u001b[0m \u001b[38;5;124;03mFinds a transcript for a given language code. Manually created transcripts are returned first and only if none\u001b[39;00m\n\u001b[1;32m    187\u001b[0m \u001b[38;5;124;03mare found, generated transcripts are used. If you only want generated transcripts use\u001b[39;00m\n\u001b[0;32m   (...)\u001b[0m\n\u001b[1;32m    196\u001b[0m \u001b[38;5;124;03m:raises: NoTranscriptFound\u001b[39;00m\n\u001b[1;32m    197\u001b[0m \u001b[38;5;124;03m\"\"\"\u001b[39;00m\n\u001b[0;32m--> 198\u001b[0m \u001b[38;5;28;01mreturn\u001b[39;00m \u001b[38;5;28;43mself\u001b[39;49m\u001b[38;5;241;43m.\u001b[39;49m\u001b[43m_find_transcript\u001b[49m\u001b[43m(\u001b[49m\n\u001b[1;32m    199\u001b[0m \u001b[43m    \u001b[49m\u001b[43mlanguage_codes\u001b[49m\u001b[43m,\u001b[49m\n\u001b[1;32m    200\u001b[0m \u001b[43m    \u001b[49m\u001b[43m[\u001b[49m\u001b[38;5;28;43mself\u001b[39;49m\u001b[38;5;241;43m.\u001b[39;49m\u001b[43m_manually_created_transcripts\u001b[49m\u001b[43m,\u001b[49m\u001b[43m \u001b[49m\u001b[38;5;28;43mself\u001b[39;49m\u001b[38;5;241;43m.\u001b[39;49m\u001b[43m_generated_transcripts\u001b[49m\u001b[43m]\u001b[49m\u001b[43m,\u001b[49m\n\u001b[1;32m    201\u001b[0m \u001b[43m\u001b[49m\u001b[43m)\u001b[49m\n",
      "File \u001b[0;32m~/miniconda3/envs/langchain/lib/python3.12/site-packages/youtube_transcript_api/_transcripts.py:239\u001b[0m, in \u001b[0;36mTranscriptList._find_transcript\u001b[0;34m(self, language_codes, transcript_dicts)\u001b[0m\n\u001b[1;32m    237\u001b[0m             \u001b[38;5;28;01mreturn\u001b[39;00m transcript_dict[language_code]\n\u001b[0;32m--> 239\u001b[0m \u001b[38;5;28;01mraise\u001b[39;00m NoTranscriptFound(\u001b[38;5;28mself\u001b[39m\u001b[38;5;241m.\u001b[39mvideo_id, language_codes, \u001b[38;5;28mself\u001b[39m)\n",
      "\u001b[0;31mNoTranscriptFound\u001b[0m: \nCould not retrieve a transcript for the video https://www.youtube.com/watch?v=lB8dMNj7JMA! This is most likely caused by:\n\nNo transcripts were found for any of the requested language codes: ['en', 'en-US']\n\nFor this video (lB8dMNj7JMA) transcripts are available in the following languages:\n\n(MANUALLY CREATED)\n - en-GB (\"English (United Kingdom)\")[TRANSLATABLE]\n\n(GENERATED)\n - hi (\"Hindi (auto-generated)\")[TRANSLATABLE]\n\n(TRANSLATION LANGUAGES)\n - ab (\"Abkhazian\")\n - aa (\"Afar\")\n - af (\"Afrikaans\")\n - ak (\"Akan\")\n - sq (\"Albanian\")\n - am (\"Amharic\")\n - ar (\"Arabic\")\n - hy (\"Armenian\")\n - as (\"Assamese\")\n - ay (\"Aymara\")\n - az (\"Azerbaijani\")\n - bn (\"Bangla\")\n - ba (\"Bashkir\")\n - eu (\"Basque\")\n - be (\"Belarusian\")\n - bho (\"Bhojpuri\")\n - bs (\"Bosnian\")\n - br (\"Breton\")\n - bg (\"Bulgarian\")\n - my (\"Burmese\")\n - ca (\"Catalan\")\n - ceb (\"Cebuano\")\n - zh-Hans (\"Chinese (Simplified)\")\n - zh-Hant (\"Chinese (Traditional)\")\n - co (\"Corsican\")\n - hr (\"Croatian\")\n - cs (\"Czech\")\n - da (\"Danish\")\n - dv (\"Divehi\")\n - nl (\"Dutch\")\n - dz (\"Dzongkha\")\n - en (\"English\")\n - eo (\"Esperanto\")\n - et (\"Estonian\")\n - ee (\"Ewe\")\n - fo (\"Faroese\")\n - fj (\"Fijian\")\n - fil (\"Filipino\")\n - fi (\"Finnish\")\n - fr (\"French\")\n - gaa (\"Ga\")\n - gl (\"Galician\")\n - lg (\"Ganda\")\n - ka (\"Georgian\")\n - de (\"German\")\n - el (\"Greek\")\n - gn (\"Guarani\")\n - gu (\"Gujarati\")\n - ht (\"Haitian Creole\")\n - ha (\"Hausa\")\n - haw (\"Hawaiian\")\n - iw (\"Hebrew\")\n - hi (\"Hindi\")\n - hmn (\"Hmong\")\n - hu (\"Hungarian\")\n - is (\"Icelandic\")\n - ig (\"Igbo\")\n - id (\"Indonesian\")\n - iu (\"Inuktitut\")\n - ga (\"Irish\")\n - it (\"Italian\")\n - ja (\"Japanese\")\n - jv (\"Javanese\")\n - kl (\"Kalaallisut\")\n - kn (\"Kannada\")\n - kk (\"Kazakh\")\n - kha (\"Khasi\")\n - km (\"Khmer\")\n - rw (\"Kinyarwanda\")\n - ko (\"Korean\")\n - kri (\"Krio\")\n - ku (\"Kurdish\")\n - ky (\"Kyrgyz\")\n - lo (\"Lao\")\n - la (\"Latin\")\n - lv (\"Latvian\")\n - ln (\"Lingala\")\n - lt (\"Lithuanian\")\n - lua (\"Luba-Lulua\")\n - luo (\"Luo\")\n - lb (\"Luxembourgish\")\n - mk (\"Macedonian\")\n - mg (\"Malagasy\")\n - ms (\"Malay\")\n - ml (\"Malayalam\")\n - mt (\"Maltese\")\n - gv (\"Manx\")\n - mi (\"Māori\")\n - mr (\"Marathi\")\n - mn (\"Mongolian\")\n - mfe (\"Morisyen\")\n - ne (\"Nepali\")\n - new (\"Newari\")\n - nso (\"Northern Sotho\")\n - no (\"Norwegian\")\n - ny (\"Nyanja\")\n - oc (\"Occitan\")\n - or (\"Odia\")\n - om (\"Oromo\")\n - os (\"Ossetic\")\n - pam (\"Pampanga\")\n - ps (\"Pashto\")\n - fa (\"Persian\")\n - pl (\"Polish\")\n - pt (\"Portuguese\")\n - pt-PT (\"Portuguese (Portugal)\")\n - pa (\"Punjabi\")\n - qu (\"Quechua\")\n - ro (\"Romanian\")\n - rn (\"Rundi\")\n - ru (\"Russian\")\n - sm (\"Samoan\")\n - sg (\"Sango\")\n - sa (\"Sanskrit\")\n - gd (\"Scottish Gaelic\")\n - sr (\"Serbian\")\n - crs (\"Seselwa Creole French\")\n - sn (\"Shona\")\n - sd (\"Sindhi\")\n - si (\"Sinhala\")\n - sk (\"Slovak\")\n - sl (\"Slovenian\")\n - so (\"Somali\")\n - st (\"Southern Sotho\")\n - es (\"Spanish\")\n - su (\"Sundanese\")\n - sw (\"Swahili\")\n - ss (\"Swati\")\n - sv (\"Swedish\")\n - tg (\"Tajik\")\n - ta (\"Tamil\")\n - tt (\"Tatar\")\n - te (\"Telugu\")\n - th (\"Thai\")\n - bo (\"Tibetan\")\n - ti (\"Tigrinya\")\n - to (\"Tongan\")\n - ts (\"Tsonga\")\n - tn (\"Tswana\")\n - tum (\"Tumbuka\")\n - tr (\"Turkish\")\n - tk (\"Turkmen\")\n - uk (\"Ukrainian\")\n - ur (\"Urdu\")\n - ug (\"Uyghur\")\n - uz (\"Uzbek\")\n - ve (\"Venda\")\n - vi (\"Vietnamese\")\n - war (\"Waray\")\n - cy (\"Welsh\")\n - fy (\"Western Frisian\")\n - wo (\"Wolof\")\n - xh (\"Xhosa\")\n - yi (\"Yiddish\")\n - yo (\"Yoruba\")\n - zu (\"Zulu\")\n\nIf you are sure that the described cause is not responsible for this error and that a transcript should be retrievable, please create an issue at https://github.com/jdepoix/youtube-transcript-api/issues. Please add which version of youtube_transcript_api you are using and provide the information needed to replicate the error. Also make sure that there are no open issues which already describe your problem!",
      "\nDuring handling of the above exception, another exception occurred:\n",
      "\u001b[0;31mNoTranscriptFound\u001b[0m                         Traceback (most recent call last)",
      "Cell \u001b[0;32mIn[11], line 2\u001b[0m\n\u001b[1;32m      1\u001b[0m \u001b[38;5;28;01mfor\u001b[39;00m i \u001b[38;5;129;01min\u001b[39;00m results:\n\u001b[0;32m----> 2\u001b[0m     docs \u001b[38;5;241m=\u001b[39m \u001b[43mYoutubeLoader\u001b[49m\u001b[43m(\u001b[49m\u001b[43mi\u001b[49m\u001b[43m[\u001b[49m\u001b[38;5;124;43m\"\u001b[39;49m\u001b[38;5;124;43mid\u001b[39;49m\u001b[38;5;124;43m\"\u001b[39;49m\u001b[43m]\u001b[49m\u001b[43m,\u001b[49m\u001b[43m \u001b[49m\u001b[43mlanguage\u001b[49m\u001b[38;5;241;43m=\u001b[39;49m\u001b[43m[\u001b[49m\u001b[38;5;124;43m\"\u001b[39;49m\u001b[38;5;124;43men\u001b[39;49m\u001b[38;5;124;43m\"\u001b[39;49m\u001b[43m,\u001b[49m\u001b[43m \u001b[49m\u001b[38;5;124;43m\"\u001b[39;49m\u001b[38;5;124;43men-US\u001b[39;49m\u001b[38;5;124;43m\"\u001b[39;49m\u001b[43m]\u001b[49m\u001b[43m)\u001b[49m\u001b[38;5;241;43m.\u001b[39;49m\u001b[43mload\u001b[49m\u001b[43m(\u001b[49m\u001b[43m)\u001b[49m\n\u001b[1;32m      3\u001b[0m     \u001b[38;5;28mprint\u001b[39m(docs[\u001b[38;5;241m0\u001b[39m]\u001b[38;5;241m.\u001b[39mpage_content)\n",
      "File \u001b[0;32m~/miniconda3/envs/langchain/lib/python3.12/site-packages/langchain_community/document_loaders/youtube.py:268\u001b[0m, in \u001b[0;36mYoutubeLoader.load\u001b[0;34m(self)\u001b[0m\n\u001b[1;32m    266\u001b[0m     transcript \u001b[38;5;241m=\u001b[39m transcript_list\u001b[38;5;241m.\u001b[39mfind_transcript(\u001b[38;5;28mself\u001b[39m\u001b[38;5;241m.\u001b[39mlanguage)\n\u001b[1;32m    267\u001b[0m \u001b[38;5;28;01mexcept\u001b[39;00m NoTranscriptFound:\n\u001b[0;32m--> 268\u001b[0m     transcript \u001b[38;5;241m=\u001b[39m \u001b[43mtranscript_list\u001b[49m\u001b[38;5;241;43m.\u001b[39;49m\u001b[43mfind_transcript\u001b[49m\u001b[43m(\u001b[49m\u001b[43m[\u001b[49m\u001b[38;5;124;43m\"\u001b[39;49m\u001b[38;5;124;43men\u001b[39;49m\u001b[38;5;124;43m\"\u001b[39;49m\u001b[43m]\u001b[49m\u001b[43m)\u001b[49m\n\u001b[1;32m    270\u001b[0m \u001b[38;5;28;01mif\u001b[39;00m \u001b[38;5;28mself\u001b[39m\u001b[38;5;241m.\u001b[39mtranslation \u001b[38;5;129;01mis\u001b[39;00m \u001b[38;5;129;01mnot\u001b[39;00m \u001b[38;5;28;01mNone\u001b[39;00m:\n\u001b[1;32m    271\u001b[0m     transcript \u001b[38;5;241m=\u001b[39m transcript\u001b[38;5;241m.\u001b[39mtranslate(\u001b[38;5;28mself\u001b[39m\u001b[38;5;241m.\u001b[39mtranslation)\n",
      "File \u001b[0;32m~/miniconda3/envs/langchain/lib/python3.12/site-packages/youtube_transcript_api/_transcripts.py:198\u001b[0m, in \u001b[0;36mTranscriptList.find_transcript\u001b[0;34m(self, language_codes)\u001b[0m\n\u001b[1;32m    184\u001b[0m \u001b[38;5;28;01mdef\u001b[39;00m \u001b[38;5;21mfind_transcript\u001b[39m(\u001b[38;5;28mself\u001b[39m, language_codes):\n\u001b[1;32m    185\u001b[0m \u001b[38;5;250m    \u001b[39m\u001b[38;5;124;03m\"\"\"\u001b[39;00m\n\u001b[1;32m    186\u001b[0m \u001b[38;5;124;03m    Finds a transcript for a given language code. Manually created transcripts are returned first and only if none\u001b[39;00m\n\u001b[1;32m    187\u001b[0m \u001b[38;5;124;03m    are found, generated transcripts are used. If you only want generated transcripts use\u001b[39;00m\n\u001b[0;32m   (...)\u001b[0m\n\u001b[1;32m    196\u001b[0m \u001b[38;5;124;03m    :raises: NoTranscriptFound\u001b[39;00m\n\u001b[1;32m    197\u001b[0m \u001b[38;5;124;03m    \"\"\"\u001b[39;00m\n\u001b[0;32m--> 198\u001b[0m     \u001b[38;5;28;01mreturn\u001b[39;00m \u001b[38;5;28;43mself\u001b[39;49m\u001b[38;5;241;43m.\u001b[39;49m\u001b[43m_find_transcript\u001b[49m\u001b[43m(\u001b[49m\n\u001b[1;32m    199\u001b[0m \u001b[43m        \u001b[49m\u001b[43mlanguage_codes\u001b[49m\u001b[43m,\u001b[49m\n\u001b[1;32m    200\u001b[0m \u001b[43m        \u001b[49m\u001b[43m[\u001b[49m\u001b[38;5;28;43mself\u001b[39;49m\u001b[38;5;241;43m.\u001b[39;49m\u001b[43m_manually_created_transcripts\u001b[49m\u001b[43m,\u001b[49m\u001b[43m \u001b[49m\u001b[38;5;28;43mself\u001b[39;49m\u001b[38;5;241;43m.\u001b[39;49m\u001b[43m_generated_transcripts\u001b[49m\u001b[43m]\u001b[49m\u001b[43m,\u001b[49m\n\u001b[1;32m    201\u001b[0m \u001b[43m    \u001b[49m\u001b[43m)\u001b[49m\n",
      "File \u001b[0;32m~/miniconda3/envs/langchain/lib/python3.12/site-packages/youtube_transcript_api/_transcripts.py:239\u001b[0m, in \u001b[0;36mTranscriptList._find_transcript\u001b[0;34m(self, language_codes, transcript_dicts)\u001b[0m\n\u001b[1;32m    236\u001b[0m         \u001b[38;5;28;01mif\u001b[39;00m language_code \u001b[38;5;129;01min\u001b[39;00m transcript_dict:\n\u001b[1;32m    237\u001b[0m             \u001b[38;5;28;01mreturn\u001b[39;00m transcript_dict[language_code]\n\u001b[0;32m--> 239\u001b[0m \u001b[38;5;28;01mraise\u001b[39;00m NoTranscriptFound(\u001b[38;5;28mself\u001b[39m\u001b[38;5;241m.\u001b[39mvideo_id, language_codes, \u001b[38;5;28mself\u001b[39m)\n",
      "\u001b[0;31mNoTranscriptFound\u001b[0m: \nCould not retrieve a transcript for the video https://www.youtube.com/watch?v=lB8dMNj7JMA! This is most likely caused by:\n\nNo transcripts were found for any of the requested language codes: ['en']\n\nFor this video (lB8dMNj7JMA) transcripts are available in the following languages:\n\n(MANUALLY CREATED)\n - en-GB (\"English (United Kingdom)\")[TRANSLATABLE]\n\n(GENERATED)\n - hi (\"Hindi (auto-generated)\")[TRANSLATABLE]\n\n(TRANSLATION LANGUAGES)\n - ab (\"Abkhazian\")\n - aa (\"Afar\")\n - af (\"Afrikaans\")\n - ak (\"Akan\")\n - sq (\"Albanian\")\n - am (\"Amharic\")\n - ar (\"Arabic\")\n - hy (\"Armenian\")\n - as (\"Assamese\")\n - ay (\"Aymara\")\n - az (\"Azerbaijani\")\n - bn (\"Bangla\")\n - ba (\"Bashkir\")\n - eu (\"Basque\")\n - be (\"Belarusian\")\n - bho (\"Bhojpuri\")\n - bs (\"Bosnian\")\n - br (\"Breton\")\n - bg (\"Bulgarian\")\n - my (\"Burmese\")\n - ca (\"Catalan\")\n - ceb (\"Cebuano\")\n - zh-Hans (\"Chinese (Simplified)\")\n - zh-Hant (\"Chinese (Traditional)\")\n - co (\"Corsican\")\n - hr (\"Croatian\")\n - cs (\"Czech\")\n - da (\"Danish\")\n - dv (\"Divehi\")\n - nl (\"Dutch\")\n - dz (\"Dzongkha\")\n - en (\"English\")\n - eo (\"Esperanto\")\n - et (\"Estonian\")\n - ee (\"Ewe\")\n - fo (\"Faroese\")\n - fj (\"Fijian\")\n - fil (\"Filipino\")\n - fi (\"Finnish\")\n - fr (\"French\")\n - gaa (\"Ga\")\n - gl (\"Galician\")\n - lg (\"Ganda\")\n - ka (\"Georgian\")\n - de (\"German\")\n - el (\"Greek\")\n - gn (\"Guarani\")\n - gu (\"Gujarati\")\n - ht (\"Haitian Creole\")\n - ha (\"Hausa\")\n - haw (\"Hawaiian\")\n - iw (\"Hebrew\")\n - hi (\"Hindi\")\n - hmn (\"Hmong\")\n - hu (\"Hungarian\")\n - is (\"Icelandic\")\n - ig (\"Igbo\")\n - id (\"Indonesian\")\n - iu (\"Inuktitut\")\n - ga (\"Irish\")\n - it (\"Italian\")\n - ja (\"Japanese\")\n - jv (\"Javanese\")\n - kl (\"Kalaallisut\")\n - kn (\"Kannada\")\n - kk (\"Kazakh\")\n - kha (\"Khasi\")\n - km (\"Khmer\")\n - rw (\"Kinyarwanda\")\n - ko (\"Korean\")\n - kri (\"Krio\")\n - ku (\"Kurdish\")\n - ky (\"Kyrgyz\")\n - lo (\"Lao\")\n - la (\"Latin\")\n - lv (\"Latvian\")\n - ln (\"Lingala\")\n - lt (\"Lithuanian\")\n - lua (\"Luba-Lulua\")\n - luo (\"Luo\")\n - lb (\"Luxembourgish\")\n - mk (\"Macedonian\")\n - mg (\"Malagasy\")\n - ms (\"Malay\")\n - ml (\"Malayalam\")\n - mt (\"Maltese\")\n - gv (\"Manx\")\n - mi (\"Māori\")\n - mr (\"Marathi\")\n - mn (\"Mongolian\")\n - mfe (\"Morisyen\")\n - ne (\"Nepali\")\n - new (\"Newari\")\n - nso (\"Northern Sotho\")\n - no (\"Norwegian\")\n - ny (\"Nyanja\")\n - oc (\"Occitan\")\n - or (\"Odia\")\n - om (\"Oromo\")\n - os (\"Ossetic\")\n - pam (\"Pampanga\")\n - ps (\"Pashto\")\n - fa (\"Persian\")\n - pl (\"Polish\")\n - pt (\"Portuguese\")\n - pt-PT (\"Portuguese (Portugal)\")\n - pa (\"Punjabi\")\n - qu (\"Quechua\")\n - ro (\"Romanian\")\n - rn (\"Rundi\")\n - ru (\"Russian\")\n - sm (\"Samoan\")\n - sg (\"Sango\")\n - sa (\"Sanskrit\")\n - gd (\"Scottish Gaelic\")\n - sr (\"Serbian\")\n - crs (\"Seselwa Creole French\")\n - sn (\"Shona\")\n - sd (\"Sindhi\")\n - si (\"Sinhala\")\n - sk (\"Slovak\")\n - sl (\"Slovenian\")\n - so (\"Somali\")\n - st (\"Southern Sotho\")\n - es (\"Spanish\")\n - su (\"Sundanese\")\n - sw (\"Swahili\")\n - ss (\"Swati\")\n - sv (\"Swedish\")\n - tg (\"Tajik\")\n - ta (\"Tamil\")\n - tt (\"Tatar\")\n - te (\"Telugu\")\n - th (\"Thai\")\n - bo (\"Tibetan\")\n - ti (\"Tigrinya\")\n - to (\"Tongan\")\n - ts (\"Tsonga\")\n - tn (\"Tswana\")\n - tum (\"Tumbuka\")\n - tr (\"Turkish\")\n - tk (\"Turkmen\")\n - uk (\"Ukrainian\")\n - ur (\"Urdu\")\n - ug (\"Uyghur\")\n - uz (\"Uzbek\")\n - ve (\"Venda\")\n - vi (\"Vietnamese\")\n - war (\"Waray\")\n - cy (\"Welsh\")\n - fy (\"Western Frisian\")\n - wo (\"Wolof\")\n - xh (\"Xhosa\")\n - yi (\"Yiddish\")\n - yo (\"Yoruba\")\n - zu (\"Zulu\")\n\nIf you are sure that the described cause is not responsible for this error and that a transcript should be retrievable, please create an issue at https://github.com/jdepoix/youtube-transcript-api/issues. Please add which version of youtube_transcript_api you are using and provide the information needed to replicate the error. Also make sure that there are no open issues which already describe your problem!"
     ]
    }
   ],
   "source": [
    "# for i in results:\n",
    "#     try:\n",
    "#         docs = YoutubeLoader(i[\"id\"], language=[\"en\", \"en-US\"]).load()\n",
    "#         print(docs[0].page_content)"
   ]
  },
  {
   "cell_type": "code",
   "execution_count": 6,
   "metadata": {},
   "outputs": [],
   "source": [
    "url = results[0][\"id\"]\n",
    "loader = YoutubeLoader(url, language=[\"en\", \"en-US\"])"
   ]
  },
  {
   "cell_type": "code",
   "execution_count": 7,
   "metadata": {},
   "outputs": [],
   "source": [
    "transcripts = loader.load()"
   ]
  },
  {
   "cell_type": "code",
   "execution_count": 8,
   "metadata": {},
   "outputs": [
    {
     "name": "stdout",
     "output_type": "stream",
     "text": [
      "[Music] hi guys welcome to get CED this is the Bombay Chef V Nar and\n",
      "what I bring to your kitchen today is butter chicken well this is one\n",
      "of those gems that we end up ordering in a restaurant every time we\n",
      "place an order well at least I do so let's begin with this well now\n",
      "there are two components to this recipe one is the butter chicken\n",
      "which is the chicken which we marinate and the second one is the gravy\n",
      "so first let's begin with the chicken I have some chunks of chicken\n",
      "here I'm adding in a little bit of garlic paste Ginger paste red chili\n",
      "powder and salt give it a nice mix well I'm going to marinate the\n",
      "chicken pieces for 15 20 minutes well now that the chicken has been\n",
      "marinating for some time now let's start pan frying the is so I'm\n",
      "taking some oil now that the oil is medium hot let's start frying\n",
      "these chicken pieces now that the chicken is almost done and ready\n",
      "let's transfer this into another [Music] Bowl well this recipe has\n",
      "many reasons to be my favorite one because it tastes wonderful and\n",
      "second because it is absolutely made in the same pot it's one of those\n",
      "which can actually be made in the same pot you remember the word one\n",
      "pot recipe this is one of those I'm cutting this onion very very very\n",
      "roughly because eventually I'm going to run this into a mixer grinder\n",
      "now the same pan in which we had cooked our chicken goes in the\n",
      "chopped onion and now I'm going to add in a little bit of oil and\n",
      "since it's butter chicken we're going to add in a spoonful of butter\n",
      "we're going to lightly sweat these onions there we go we're almost\n",
      "ready next goes in roughly cut tomatoes and along with this we're\n",
      "going to add in some casual nuts once this is evenly mixed I'm going\n",
      "to add in some water and along with this now goes in the garlic paste\n",
      "next goes in some salt malt vinegar some sugar garam masala powder and\n",
      "some red chili powder I'm going to evenly mix this now that this\n",
      "mixture is nicely mixed and ready we're going to let this mixture\n",
      "simmer for at least 15 to 20 minutes till the time the entire thing\n",
      "becomes nice and mushy so that we can then run it into a mixer to a\n",
      "fine paste now that this mixture has become nice and soft I'm going to\n",
      "turn the flame off and transfer this into another container now this\n",
      "container is where I'm going to use a hand blender and churn it into a\n",
      "fine puree and now I blend it into a fine pulp now that this has\n",
      "pureed well I'm going to strain this in the same pan well butter\n",
      "chicken is also called chicken Mak and M for all we know is not only\n",
      "butter but it's also velvety smooth in English so remember that it has\n",
      "to be nice and smooth and buttery so while saing this mixture we have\n",
      "to make sure we press as much as we can so that there is absolute\n",
      "minimal wastage and what we have here is nothing but the seeds and the\n",
      "skin of the tomatoes now I'm just reheating this gravy and now is the\n",
      "time where goes in the butter cream kasuri miti and the chicken so\n",
      "first goes in the butter next goes in some cream next goes in the\n",
      "chicken now finally goes in the crushed myy now I'll let this gravy\n",
      "simmer for 5 to 7 minutes and here you have butter chicken just done\n",
      "and ready now let's start [Music] plating now finally goes in some\n",
      "fresh cream and some curri MTI chicken Makala chicken Mak or butter\n",
      "chicken whatever the name is the recipe Remains the Same do try it at\n",
      "home and do let us know how you like it so yeah this is for you\n",
      "[Music]\n"
     ]
    }
   ],
   "source": [
    "print(textwrap.fill(transcripts[0].page_content))"
   ]
  },
  {
   "cell_type": "code",
   "execution_count": 1,
   "metadata": {},
   "outputs": [
    {
     "name": "stderr",
     "output_type": "stream",
     "text": [
      "/home/naman/miniconda3/envs/langchain/lib/python3.12/site-packages/tqdm/auto.py:21: TqdmWarning: IProgress not found. Please update jupyter and ipywidgets. See https://ipywidgets.readthedocs.io/en/stable/user_install.html\n",
      "  from .autonotebook import tqdm as notebook_tqdm\n"
     ]
    }
   ],
   "source": [
    "import dotenv\n",
    "\n",
    "dotenv.load_dotenv()\n",
    "from youtube_search import YoutubeSearch\n",
    "from langchain_google_genai import ChatGoogleGenerativeAI\n",
    "from langchain.agents import load_tools\n",
    "from langchain.agents import initialize_agent\n",
    "from langchain.agents import AgentType\n",
    "from langchain.tools import BaseTool\n",
    "from langchain_community.document_loaders import YoutubeLoader"
   ]
  },
  {
   "cell_type": "code",
   "execution_count": 2,
   "metadata": {},
   "outputs": [],
   "source": [
    "class RecipeTool(BaseTool):\n",
    "    name: str = \"Food Recipe Collector\"\n",
    "    description: str = \"use this tool when you need to know the recipe of any food item\"\n",
    "\n",
    "    def _run(self, food_item_name: str) -> str:\n",
    "        results = YoutubeSearch(\n",
    "            search_terms=f\"{food_item_name} recipe\", max_results=5\n",
    "        ).to_dict()\n",
    "\n",
    "        for i in results:\n",
    "            try:\n",
    "                loader = YoutubeLoader(i[\"id\"], language=[\"en\", \"en-US\"])\n",
    "                transcripts = loader.load()[0].page_content\n",
    "                return transcripts\n",
    "            except:\n",
    "                return \"Recipe Not Found!\"\n",
    "\n",
    "    def _arun(self, radius: int):\n",
    "        raise NotImplementedError(\"This tool does not support async\")"
   ]
  },
  {
   "cell_type": "code",
   "execution_count": 3,
   "metadata": {},
   "outputs": [],
   "source": [
    "tools = [load_tools([\"serpapi\"])[0], RecipeTool()]"
   ]
  },
  {
   "cell_type": "code",
   "execution_count": 4,
   "metadata": {},
   "outputs": [],
   "source": [
    "llm = ChatGoogleGenerativeAI(model=\"gemini-1.5-pro-latest\")"
   ]
  },
  {
   "cell_type": "code",
   "execution_count": 5,
   "metadata": {},
   "outputs": [
    {
     "name": "stderr",
     "output_type": "stream",
     "text": [
      "/tmp/ipykernel_87799/2747768743.py:1: LangChainDeprecationWarning: LangChain agents will continue to be supported, but it is recommended for new use cases to be built with LangGraph. LangGraph offers a more flexible and full-featured framework for building agents, including support for tool-calling, persistence of state, and human-in-the-loop workflows. See LangGraph documentation for more details: https://langchain-ai.github.io/langgraph/. Refer here for its pre-built ReAct agent: https://langchain-ai.github.io/langgraph/how-tos/create-react-agent/\n",
      "  agent = initialize_agent(\n"
     ]
    }
   ],
   "source": [
    "agent = initialize_agent(\n",
    "    agent=AgentType.STRUCTURED_CHAT_ZERO_SHOT_REACT_DESCRIPTION,\n",
    "    tools=tools,\n",
    "    llm=llm,\n",
    "    verbose=True,\n",
    "    max_iterations=3,\n",
    "    early_stopping_method=\"generate\",\n",
    ")"
   ]
  },
  {
   "cell_type": "code",
   "execution_count": 6,
   "metadata": {},
   "outputs": [],
   "source": [
    "with open(\"prompt.txt\", \"r\") as f:\n",
    "    prompt = f.read()\n",
    "agent.agent.llm_chain.prompt.messages[0].prompt.template = prompt"
   ]
  },
  {
   "cell_type": "code",
   "execution_count": 7,
   "metadata": {},
   "outputs": [
    {
     "name": "stderr",
     "output_type": "stream",
     "text": [
      "/tmp/ipykernel_87799/1784540907.py:1: LangChainDeprecationWarning: The method `Chain.run` was deprecated in langchain 0.1.0 and will be removed in 1.0. Use :meth:`~invoke` instead.\n",
      "  result = agent.run(\"Vada Pav\")\n"
     ]
    },
    {
     "name": "stdout",
     "output_type": "stream",
     "text": [
      "\n",
      "\n",
      "\u001b[1m> Entering new AgentExecutor chain...\u001b[0m\n",
      "\u001b[32;1m\u001b[1;3mThought: I need to find a recipe for Vada Pav. I will use the Food Recipe Collector tool.\n",
      "Action:\n",
      "```json\n",
      "{\n",
      "  \"action\": \"Food Recipe Collector\",\n",
      "  \"action_input\": \"Vada Pav\"\n",
      "}\n",
      "```\u001b[0m\n",
      "Observation: \u001b[33;1m\u001b[1;3mHello friends, I am Kabita. I welcome you to my chanel I have brought to you recipe of vada pav which is very famous in Maharashtra It is easy to make, in today's video I will show recipe of chutney which is served with vada pav Try this complete recipe of vada pav, you will love it Lets us start today's recipe To make vada pav we will make a paste first I am using 3 green chillis, 12-13 garlic cloves, 3 inch ginger, 1/4 cup coriander leaves and a bit f curry leaves Put it in a blending jar and blend it, do not add water You may skip curry leaves You may aslo skip garlic We have blended it without water and it should like like this I am using 5 boiled and mashed potatoes without it's skin Lets move to process of making potato masala Heat a pan and add 3-4 tbsp of cooking oil Once oil is heated, add 1 tsp cumin seeds, 1 tsp mustard seeds and 1/4 tsp asafoetida(hing) Cook the spices a little and then add prepared paste Keep the flame on low and add prepared paste Fry it for a minute on medium flame Once the paste starts cooking it release nice aroma Whole coriander is also used at times, use it as tadka along with cumin seed Or add 1/2 tsp coriander powder after cooking the paste for a minute Coriander is optional Add mashed potatoes Add salt to taste(aprox 1.25 tsp) Mix it and cook it for a minute on medium flame It releases very nice aroma Potato masala is ready now, switch off the flame Let it cool down, we will use it later While potato mixture is cooling down, we will prepare batter/paste of gram-flour Take 1 cup of gram-flour and add 1/2 tsp turmeric powder Add salt to taste(approx 1.5 tsp) Add 1/2 tsp red chilli powder Add 1 tbsp rice flour Rice flour is optional, it makes vada crispier Mix it, add water and make thick batter Add little water at a time Make sure that there are no lumps in the batter Use whisker to mix it if available Remember to keep batter thick, it is very important Thicker batter ensure that it gets properly coated on vada Our batter is ready, keep the consistency as shown We made potato mixture, our batter is ready as well, lets make vada now Take a portion of potato mixture and give it round shape using your palms Keep it aside There are 2 types of vadas made for vada pav Some prefer round vadas and some prefer slightly  flattened vada To make flattened vada, press the round vada a little and you are done You may make vadas of the shape you prefer We have made vadas from potato mixture We will fry these now We will make lehsoon chutney now(garlic and groundnut chutney) To make chutney, I am using 1/2 cup groundnut Roast for 2 minutes on medium flame After 2 minutes, switch off the flame and let it cool down We will remove the skin of groundnut and grind it Add groundnut, 12-13 peeled garlic cloves and 1 tsp cumin seeds Add 1.5 tbsp red chilli powder and salt to taste Grind it now This is process to make red(lehsoon) chutney which is used in vada pav Adding more Kashmiri red chilli for better colour of this chutney You may add more red chilli if you like, mix it Our chutney is ready, we will move to process of frying vadas now Add cooking oil in pan/kadahi as shown and let it heat properly Once oil it sufficiently hot, add few drops of batter to check its temperature Once batter drops starts floating on the oil, it is ready for frying vada Coat the vadas(balls made with potato mixture) properly with batter You make take help of spoon and fork to add it in the oil Put it carefully in hot oil Add vadas at the side of pan to avoid hot oil Add it in the pan as shown If you have experience, you may use hands instead of fork in this process You may use method of your choice to add vadas in the pan Fry the vadas on medium flame until they turn golden brown Remove the small fried particles of gram flour as well Repeat the process to fry remaining vadas I have fried all the vadas now, our vadas are ready for final preparation You may also consume these vadas with chutney like this Lets fry a few green chillis in the hot oil It is served with vada pava, you may skip it if you prefer Put a cut in green chilli to avoid splutter of hot oil while frying it Take it out and sprinkle a little salt on it Let us move to final assembling process now Take paw(also called ladi pav) Open a pav using knife or hand Add prepared chutney Add a vada And optionally, fried green chilli Our street style vada pava is ready now Eat it while it's hot, it tastes amazing You may put extra chutney and fried chillies while serving Try this super tasty vada pav, you and your family will love it It is perfect tea time snack If you like today's recipe after trying, give it thumbs up and share it Please subscribe to my channel for more yummy yet easy to make recipes\u001b[0m\n",
      "Thought:\u001b[32;1m\u001b[1;3mThought: The Food Recipe Collector tool returned a transcript of a video recipe, not a structured recipe.  I need to convert this into an easy-to-follow recipe format.\n",
      "\n",
      "Action:\n",
      "```json\n",
      "{\n",
      "  \"action\": \"Final Answer\",\n",
      "  \"action_input\": \"## Vada Pav Recipe\n",
      "\n",
      "**Yields:** Multiple servings\n",
      "**Prep time:** 30 minutes\n",
      "**Cook time:** 20 minutes\n",
      "\n",
      "\n",
      "**Ingredients:**\n",
      "\n",
      "**For the Vada (Potato Patty):**\n",
      "\n",
      "* 5 medium boiled potatoes, peeled and mashed\n",
      "* 3 green chilies\n",
      "* 12-13 garlic cloves\n",
      "* 3-inch piece of ginger\n",
      "* 1/4 cup coriander leaves\n",
      "* A few curry leaves (optional)\n",
      "* 3-4 tbsp cooking oil\n",
      "* 1 tsp cumin seeds\n",
      "* 1 tsp mustard seeds\n",
      "* 1/4 tsp asafoetida (hing)\n",
      "* 1/2 tsp coriander powder (optional)\n",
      "* 1.25 tsp salt (or to taste)\n",
      "\n",
      "**For the Batter:**\n",
      "\n",
      "* 1 cup gram flour (besan)\n",
      "* 1/2 tsp turmeric powder\n",
      "* 1.5 tsp salt (or to taste)\n",
      "* 1/2 tsp red chili powder\n",
      "* 1 tbsp rice flour (optional)\n",
      "* Water (as needed)\n",
      "\n",
      "**For the Lehsun (Garlic) Chutney:**\n",
      "\n",
      "* 1/2 cup groundnuts\n",
      "* 12-13 garlic cloves, peeled\n",
      "* 1 tsp cumin seeds\n",
      "* 1.5 tbsp red chili powder (or to taste)\n",
      "* Salt to taste\n",
      "* Kashmiri red chili powder (optional, for color)\n",
      "\n",
      "\n",
      "**For Serving:**\n",
      "\n",
      "* Pav (dinner rolls)\n",
      "* Fried green chilies (optional)\n",
      "\n",
      "\n",
      "**Instructions:**\n",
      "\n",
      "\n",
      "**1. Prepare the Potato Mixture:**\n",
      "\n",
      "* Blend green chilies, garlic, ginger, coriander leaves, and curry leaves (if using) into a smooth paste without adding water.\n",
      "* Heat oil in a pan. Add cumin seeds, mustard seeds, and asafoetida. Once they splutter, add the prepared paste and fry for a minute.\n",
      "* Add coriander powder (if using) and mashed potatoes. Season with salt and cook for another minute. Remove from heat and let it cool.\n",
      "\n",
      "**2. Prepare the Batter:**\n",
      "\n",
      "* In a bowl, whisk together gram flour, turmeric powder, salt, red chili powder, and rice flour (if using).\n",
      "* Gradually add water, whisking continuously to form a thick, lump-free batter.\n",
      "\n",
      "**3. Prepare the Lehsun Chutney:**\n",
      "\n",
      "* Dry roast groundnuts in a pan until lightly browned. Remove the skins and let them cool.\n",
      "* Grind roasted groundnuts, garlic cloves, cumin seeds, red chili powder, salt, and Kashmiri red chili powder (if using) into a smooth chutney.\n",
      "\n",
      "**4. Prepare the Vadas:**\n",
      "\n",
      "* Take portions of the potato mixture and shape them into round or slightly flattened patties.\n",
      "* Heat oil in a deep pan for frying.\n",
      "* Dip each potato patty into the batter, ensuring it's fully coated.\n",
      "* Carefully drop the coated patties into the hot oil and fry until golden brown.\n",
      "* Remove and drain on paper towels.\n",
      "\n",
      "**5. Fry Green Chilies (Optional):**\n",
      "\n",
      "* Slit green chilies lengthwise and fry them in the hot oil until blistered. Sprinkle with salt.\n",
      "\n",
      "**6. Assemble the Vada Pav:**\n",
      "\n",
      "* Slit the pav horizontally.\n",
      "* Spread a generous amount of lehsun chutney on both sides of the pav.\n",
      "* Place a vada inside the pav.\n",
      "* Add a fried green chili (optional).\n",
      "* Serve immediately and enjoy!\n",
      "\n",
      "\n",
      "\n",
      "**Tips and Variations:**\n",
      "\n",
      "* Adjust the amount of chili powder according to your spice preference.\n",
      "* For a crispier vada, add a tablespoon of rice flour to the batter.\n",
      "* You can add chopped onions and other vegetables to the potato mixture for added flavor.\n",
      "* Serve with extra chutney and fried green chilies on the side.\"\n",
      "}\n",
      "```\u001b[0m\n",
      "\n",
      "\u001b[1m> Finished chain.\u001b[0m\n"
     ]
    }
   ],
   "source": [
    "result = agent.run(\"Vada Pav\")"
   ]
  },
  {
   "cell_type": "code",
   "execution_count": 8,
   "metadata": {},
   "outputs": [
    {
     "name": "stdout",
     "output_type": "stream",
     "text": [
      "## Vada Pav Recipe\n",
      "\n",
      "**Yields:** Multiple servings\n",
      "**Prep time:** 30 minutes\n",
      "**Cook time:** 20 minutes\n",
      "\n",
      "\n",
      "**Ingredients:**\n",
      "\n",
      "**For the Vada (Potato Patty):**\n",
      "\n",
      "* 5 medium boiled potatoes, peeled and mashed\n",
      "* 3 green chilies\n",
      "* 12-13 garlic cloves\n",
      "* 3-inch piece of ginger\n",
      "* 1/4 cup coriander leaves\n",
      "* A few curry leaves (optional)\n",
      "* 3-4 tbsp cooking oil\n",
      "* 1 tsp cumin seeds\n",
      "* 1 tsp mustard seeds\n",
      "* 1/4 tsp asafoetida (hing)\n",
      "* 1/2 tsp coriander powder (optional)\n",
      "* 1.25 tsp salt (or to taste)\n",
      "\n",
      "**For the Batter:**\n",
      "\n",
      "* 1 cup gram flour (besan)\n",
      "* 1/2 tsp turmeric powder\n",
      "* 1.5 tsp salt (or to taste)\n",
      "* 1/2 tsp red chili powder\n",
      "* 1 tbsp rice flour (optional)\n",
      "* Water (as needed)\n",
      "\n",
      "**For the Lehsun (Garlic) Chutney:**\n",
      "\n",
      "* 1/2 cup groundnuts\n",
      "* 12-13 garlic cloves, peeled\n",
      "* 1 tsp cumin seeds\n",
      "* 1.5 tbsp red chili powder (or to taste)\n",
      "* Salt to taste\n",
      "* Kashmiri red chili powder (optional, for color)\n",
      "\n",
      "\n",
      "**For Serving:**\n",
      "\n",
      "* Pav (dinner rolls)\n",
      "* Fried green chilies (optional)\n",
      "\n",
      "\n",
      "**Instructions:**\n",
      "\n",
      "\n",
      "**1. Prepare the Potato Mixture:**\n",
      "\n",
      "* Blend green chilies, garlic, ginger, coriander leaves, and curry leaves (if using) into a smooth paste without adding water.\n",
      "* Heat oil in a pan. Add cumin seeds, mustard seeds, and asafoetida. Once they splutter, add the prepared paste and fry for a minute.\n",
      "* Add coriander powder (if using) and mashed potatoes. Season with salt and cook for another minute. Remove from heat and let it cool.\n",
      "\n",
      "**2. Prepare the Batter:**\n",
      "\n",
      "* In a bowl, whisk together gram flour, turmeric powder, salt, red chili powder, and rice flour (if using).\n",
      "* Gradually add water, whisking continuously to form a thick, lump-free batter.\n",
      "\n",
      "**3. Prepare the Lehsun Chutney:**\n",
      "\n",
      "* Dry roast groundnuts in a pan until lightly browned. Remove the skins and let them cool.\n",
      "* Grind roasted groundnuts, garlic cloves, cumin seeds, red chili powder, salt, and Kashmiri red chili powder (if using) into a smooth chutney.\n",
      "\n",
      "**4. Prepare the Vadas:**\n",
      "\n",
      "* Take portions of the potato mixture and shape them into round or slightly flattened patties.\n",
      "* Heat oil in a deep pan for frying.\n",
      "* Dip each potato patty into the batter, ensuring it's fully coated.\n",
      "* Carefully drop the coated patties into the hot oil and fry until golden brown.\n",
      "* Remove and drain on paper towels.\n",
      "\n",
      "**5. Fry Green Chilies (Optional):**\n",
      "\n",
      "* Slit green chilies lengthwise and fry them in the hot oil until blistered. Sprinkle with salt.\n",
      "\n",
      "**6. Assemble the Vada Pav:**\n",
      "\n",
      "* Slit the pav horizontally.\n",
      "* Spread a generous amount of lehsun chutney on both sides of the pav.\n",
      "* Place a vada inside the pav.\n",
      "* Add a fried green chili (optional).\n",
      "* Serve immediately and enjoy!\n",
      "\n",
      "\n",
      "\n",
      "**Tips and Variations:**\n",
      "\n",
      "* Adjust the amount of chili powder according to your spice preference.\n",
      "* For a crispier vada, add a tablespoon of rice flour to the batter.\n",
      "* You can add chopped onions and other vegetables to the potato mixture for added flavor.\n",
      "* Serve with extra chutney and fried green chilies on the side.\n"
     ]
    }
   ],
   "source": [
    "print(result)"
   ]
  },
  {
   "cell_type": "code",
   "execution_count": null,
   "metadata": {},
   "outputs": [],
   "source": []
  }
 ],
 "metadata": {
  "kernelspec": {
   "display_name": "langchain",
   "language": "python",
   "name": "python3"
  },
  "language_info": {
   "codemirror_mode": {
    "name": "ipython",
    "version": 3
   },
   "file_extension": ".py",
   "mimetype": "text/x-python",
   "name": "python",
   "nbconvert_exporter": "python",
   "pygments_lexer": "ipython3",
   "version": "3.12.7"
  }
 },
 "nbformat": 4,
 "nbformat_minor": 2
}
