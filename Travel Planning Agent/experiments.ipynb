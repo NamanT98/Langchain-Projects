{
 "cells": [
  {
   "cell_type": "code",
   "execution_count": 23,
   "metadata": {},
   "outputs": [
    {
     "data": {
      "text/plain": [
       "True"
      ]
     },
     "execution_count": 23,
     "metadata": {},
     "output_type": "execute_result"
    }
   ],
   "source": [
    "import dotenv\n",
    "\n",
    "dotenv.load_dotenv()"
   ]
  },
  {
   "cell_type": "code",
   "execution_count": 6,
   "metadata": {},
   "outputs": [
    {
     "name": "stderr",
     "output_type": "stream",
     "text": [
      "/home/naman/miniconda3/envs/langchain/lib/python3.12/site-packages/tqdm/auto.py:21: TqdmWarning: IProgress not found. Please update jupyter and ipywidgets. See https://ipywidgets.readthedocs.io/en/stable/user_install.html\n",
      "  from .autonotebook import tqdm as notebook_tqdm\n"
     ]
    }
   ],
   "source": [
    "from langchain import PromptTemplate\n",
    "from langchain.schema import StrOutputParser\n",
    "from langchain_core.runnables import RunnablePassthrough\n",
    "from langchain_google_genai import ChatGoogleGenerativeAI"
   ]
  },
  {
   "cell_type": "code",
   "execution_count": 8,
   "metadata": {},
   "outputs": [],
   "source": [
    "from langchain.agents import load_tools\n",
    "from langchain.agents import initialize_agent\n",
    "from langchain.agents import AgentType"
   ]
  },
  {
   "cell_type": "code",
   "execution_count": 9,
   "metadata": {},
   "outputs": [],
   "source": [
    "llm = ChatGoogleGenerativeAI(model=\"gemini-1.5-pro-latest\")"
   ]
  },
  {
   "cell_type": "code",
   "execution_count": 12,
   "metadata": {},
   "outputs": [],
   "source": [
    "from langchain.tools import BaseTool\n",
    "from math import pi\n",
    "from typing import Union\n",
    "\n",
    "\n",
    "class FlightAndHotelData(BaseTool):\n",
    "    name: str = \"Flight and Hotel data collector\"\n",
    "    description: str = (\n",
    "        \"use this tool when you need the information about the flight and hotel from source to destination\"\n",
    "    )\n",
    "\n",
    "    def _run(self, source: str, destination: str, from_date: str, to_date: str) -> str:\n",
    "        return \"Data\"\n",
    "\n",
    "    def _arun(self, radius: int):\n",
    "        raise NotImplementedError(\"This tool does not support async\")"
   ]
  },
  {
   "cell_type": "code",
   "execution_count": 22,
   "metadata": {},
   "outputs": [],
   "source": [
    "import requests\n",
    "import os"
   ]
  },
  {
   "cell_type": "code",
   "execution_count": 24,
   "metadata": {},
   "outputs": [],
   "source": [
    "url = \"https://tripadvisor16.p.rapidapi.com/api/v1/hotels/searchHotels\"\n",
    "\n",
    "querystring = {\n",
    "    \"geoId\": \"1584865\",\n",
    "    \"checkIn\": \"2025-02-20\",\n",
    "    \"checkOut\": \"2025-02-25\",\n",
    "    \"pageNumber\": \"1\",\n",
    "    \"currencyCode\": \"INR\",\n",
    "}\n",
    "\n",
    "headers = {\n",
    "    \"x-rapidapi-key\": os.environ.get(\"RAPID_API_KEY\"),\n",
    "    \"x-rapidapi-host\": \"tripadvisor16.p.rapidapi.com\",\n",
    "}\n",
    "\n",
    "response = requests.get(url, headers=headers, params=querystring)"
   ]
  },
  {
   "cell_type": "code",
   "execution_count": 28,
   "metadata": {},
   "outputs": [
    {
     "name": "stdout",
     "output_type": "stream",
     "text": [
      "1. Royal Palace By Rajasthan Maheshwari Bhawan\n",
      "2. Nirmal Chhaya Nature Resorts\n",
      "3. Derby Hotel & Restaurant\n",
      "4. Hotel Raj Palace\n",
      "5. Hotel indra place\n",
      "Royal Palace By Rajasthan Maheshwari Bhawan\n",
      "6. Hotel GSS\n",
      "7. Tiger's Den Resort\n",
      "8. Hotel Parinita Shri\n",
      "9. Hotel Yashraj\n",
      "10. SPOT ON Krishna Market And Lodge\n",
      "11. Hotel JK Celebration\n",
      "12. Hotel Vrindavan\n",
      "13. Olive\n",
      "14. Bandhavgarh Tiger Resort\n",
      "15. Bisman Lodge\n",
      "16. OYO Flagship Hotel Gurukripa Inn\n",
      "17. Guru Simran Lodge\n",
      "18. Nisarg Resort\n",
      "19. Krishnam Resort\n",
      "20. Hotel Datt Residency\n",
      "21. OYO 9305 Hotel Dwarika Inn\n",
      "22. Oyo Hotel Air Palace\n",
      "23. Collection O 81290 Hotel Air Palace\n",
      "24. The Roaring Salvan County\n",
      "25. Hotel Kadamb Tree\n",
      "26. Hotel Balaji Pride\n",
      "27. Hotel Princess 3\n",
      "28. Ankit Hotel By M Square\n",
      "29. Shashnoday Jain Bhavan\n",
      "30. Max Hotel Jabalpur\n"
     ]
    }
   ],
   "source": [
    "for i in response.json()[\"data\"][\"data\"]:\n",
    "    print(i[\"title\"])"
   ]
  },
  {
   "cell_type": "code",
   "execution_count": 14,
   "metadata": {},
   "outputs": [],
   "source": [
    "tools = [load_tools([\"serpapi\"])[0], FlightAndHotelData()]"
   ]
  },
  {
   "cell_type": "code",
   "execution_count": 15,
   "metadata": {},
   "outputs": [],
   "source": [
    "tools[0].description = (\n",
    "    \"A search engine. Useful when you need to find information about anything. Use this to find popular attractions, landmarks, and activities at the destination. Input should be a search query.\"\n",
    ")"
   ]
  },
  {
   "cell_type": "code",
   "execution_count": 16,
   "metadata": {},
   "outputs": [
    {
     "name": "stderr",
     "output_type": "stream",
     "text": [
      "/tmp/ipykernel_44532/2747768743.py:1: LangChainDeprecationWarning: LangChain agents will continue to be supported, but it is recommended for new use cases to be built with LangGraph. LangGraph offers a more flexible and full-featured framework for building agents, including support for tool-calling, persistence of state, and human-in-the-loop workflows. See LangGraph documentation for more details: https://langchain-ai.github.io/langgraph/. Refer here for its pre-built ReAct agent: https://langchain-ai.github.io/langgraph/how-tos/create-react-agent/\n",
      "  agent = initialize_agent(\n"
     ]
    }
   ],
   "source": [
    "agent = initialize_agent(\n",
    "    agent=AgentType.STRUCTURED_CHAT_ZERO_SHOT_REACT_DESCRIPTION,\n",
    "    tools=tools,\n",
    "    llm=llm,\n",
    "    verbose=True,\n",
    "    max_iterations=3,\n",
    "    early_stopping_method=\"generate\",\n",
    ")"
   ]
  },
  {
   "cell_type": "code",
   "execution_count": 17,
   "metadata": {},
   "outputs": [
    {
     "name": "stderr",
     "output_type": "stream",
     "text": [
      "/tmp/ipykernel_44532/3536805.py:1: LangChainDeprecationWarning: The method `Chain.run` was deprecated in langchain 0.1.0 and will be removed in 1.0. Use :meth:`~invoke` instead.\n",
      "  agent.run(\"Can you tell me flight from bombay to goa on 24 feb 2025 to 28 feb 2025 ?\")\n"
     ]
    },
    {
     "name": "stdout",
     "output_type": "stream",
     "text": [
      "\n",
      "\n",
      "\u001b[1m> Entering new AgentExecutor chain...\u001b[0m\n",
      "\u001b[32;1m\u001b[1;3mThought:\n",
      "I can use Flight and Hotel data collector tool to get this information.\n",
      "\n",
      "Action:\n",
      "```json\n",
      "{\n",
      "  \"action\": \"Flight and Hotel data collector\",\n",
      "  \"action_input\": {\n",
      "    \"source\": \"bombay\",\n",
      "    \"destination\": \"goa\",\n",
      "    \"from_date\": \"24 feb 2025\",\n",
      "    \"to_date\": \"28 feb 2025\"\n",
      "  }\n",
      "}\n",
      "```\u001b[0m\n",
      "Observation: \u001b[33;1m\u001b[1;3mData\u001b[0m\n",
      "Thought:\u001b[32;1m\u001b[1;3mThought:\n",
      "I can use Flight and Hotel data collector tool to get this information.\n",
      "\n",
      "Action:\n",
      "```json\n",
      "{\n",
      "  \"action\": \"Flight and Hotel data collector\",\n",
      "  \"action_input\": {\n",
      "    \"source\": \"bombay\",\n",
      "    \"destination\": \"goa\",\n",
      "    \"from_date\": \"24 feb 2025\",\n",
      "    \"to_date\": \"28 feb 2025\"\n",
      "  }\n",
      "}\n",
      "```\u001b[0m\n",
      "Observation: \u001b[33;1m\u001b[1;3mData\u001b[0m\n",
      "Thought:\u001b[32;1m\u001b[1;3mThought:\n",
      "I can use Flight and Hotel data collector tool to get this information.\n",
      "\n",
      "Action:\n",
      "```json\n",
      "{\n",
      "  \"action\": \"Flight and Hotel data collector\",\n",
      "  \"action_input\": {\n",
      "    \"source\": \"bombay\",\n",
      "    \"destination\": \"goa\",\n",
      "    \"from_date\": \"24 feb 2025\",\n",
      "    \"to_date\": \"28 feb 2025\"\n",
      "  }\n",
      "}\n",
      "```\u001b[0m\n",
      "Observation: \u001b[33;1m\u001b[1;3mData\u001b[0m\n",
      "Thought:\u001b[32;1m\u001b[1;3mAction:\n",
      "```json\n",
      "{\n",
      "  \"action\": \"Final Answer\",\n",
      "  \"action_input\": \"I am sorry, I cannot fulfill this request. The Flight and Hotel data collector tool could not find any information about flights for the specified date.\"\n",
      "}\n",
      "```\u001b[0m\n",
      "\n",
      "\u001b[1m> Finished chain.\u001b[0m\n"
     ]
    },
    {
     "data": {
      "text/plain": [
       "'I am sorry, I cannot fulfill this request. The Flight and Hotel data collector tool could not find any information about flights for the specified date.'"
      ]
     },
     "execution_count": 17,
     "metadata": {},
     "output_type": "execute_result"
    }
   ],
   "source": [
    "agent.run(\"Can you tell me flight from bombay to goa on 24 feb 2025 to 28 feb 2025 ?\")"
   ]
  },
  {
   "cell_type": "code",
   "execution_count": 18,
   "metadata": {},
   "outputs": [
    {
     "name": "stdout",
     "output_type": "stream",
     "text": [
      "Respond to the human as helpfully and accurately as possible. You have access to the following tools:\n",
      "\n",
      "Search: A search engine. Useful when you need to find information about anything. Use this to find popular attractions, landmarks, and activities at the destination. Input should be a search query., args: {{'tool_input': {{'type': 'string'}}}}\n",
      "Flight and Hotel data collector: use this tool when you need the information about the flight and hotel from source to destination, args: {{'source': {{'title': 'Source', 'type': 'string'}}, 'destination': {{'title': 'Destination', 'type': 'string'}}, 'from_date': {{'title': 'From Date', 'type': 'string'}}, 'to_date': {{'title': 'To Date', 'type': 'string'}}}}\n",
      "\n",
      "Use a json blob to specify a tool by providing an action key (tool name) and an action_input key (tool input).\n",
      "\n",
      "Valid \"action\" values: \"Final Answer\" or Search, Flight and Hotel data collector\n",
      "\n",
      "Provide only ONE action per $JSON_BLOB, as shown:\n",
      "\n",
      "```\n",
      "{{\n",
      "  \"action\": $TOOL_NAME,\n",
      "  \"action_input\": $INPUT\n",
      "}}\n",
      "```\n",
      "\n",
      "Follow this format:\n",
      "\n",
      "Question: input question to answer\n",
      "Thought: consider previous and subsequent steps\n",
      "Action:\n",
      "```\n",
      "$JSON_BLOB\n",
      "```\n",
      "Observation: action result\n",
      "... (repeat Thought/Action/Observation N times)\n",
      "Thought: I know what to respond\n",
      "Action:\n",
      "```\n",
      "{{\n",
      "  \"action\": \"Final Answer\",\n",
      "  \"action_input\": \"Final response to human\"\n",
      "}}\n",
      "```\n",
      "\n",
      "Begin! Reminder to ALWAYS respond with a valid json blob of a single action. Use tools if necessary. Respond directly if appropriate. Format is Action:```$JSON_BLOB```then Observation:.\n",
      "Thought:\n"
     ]
    }
   ],
   "source": [
    "a = agent.agent.llm_chain.prompt.messages[0].prompt.template\n",
    "print(a)"
   ]
  },
  {
   "cell_type": "code",
   "execution_count": 19,
   "metadata": {},
   "outputs": [],
   "source": [
    "with open(\"prompt.txt\", \"r\") as f:\n",
    "    prompt = f.read()"
   ]
  },
  {
   "cell_type": "code",
   "execution_count": 20,
   "metadata": {},
   "outputs": [],
   "source": [
    "agent.agent.llm_chain.prompt.messages[0].prompt.template = prompt"
   ]
  },
  {
   "cell_type": "code",
   "execution_count": 21,
   "metadata": {},
   "outputs": [
    {
     "name": "stdout",
     "output_type": "stream",
     "text": [
      "\n",
      "\n",
      "\u001b[1m> Entering new AgentExecutor chain...\u001b[0m\n",
      "\u001b[32;1m\u001b[1;3mThought:\n",
      "I need to find flight and hotel options from Mumbai to Goa for the specified dates and then suggest popular attractions and activities in Goa.\n",
      "\n",
      "Action:\n",
      "```json\n",
      "{\n",
      "  \"action\": \"Flight and Hotel data collector\",\n",
      "  \"action_input\": {\n",
      "    \"source\": \"Mumbai\",\n",
      "    \"destination\": \"Goa\",\n",
      "    \"from_date\": \"24 Feb 2025\",\n",
      "    \"to_date\": \"28 Feb 2025\"\n",
      "  }\n",
      "}\n",
      "```\u001b[0m\n",
      "Observation: \u001b[33;1m\u001b[1;3mData\u001b[0m\n",
      "Thought:\u001b[32;1m\u001b[1;3mThought:\n",
      "I have the flight and hotel data. Now I need to search for popular attractions and activities in Goa.\n",
      "\n",
      "Action:\n",
      "```json\n",
      "{\n",
      "  \"action\": \"Search\",\n",
      "  \"action_input\": \"popular attractions and activities in Goa\"\n",
      "}\n",
      "```\n",
      "\u001b[0m\n",
      "Observation: \u001b[36;1m\u001b[1;3m[{'title': 'Basilica of Bom Jesus', 'link': 'https://www.google.com#', 'description': 'Basilica', 'rating': 4.5, 'reviews': 62000, 'price': 'Free', 'thumbnail': 'https://serpapi.com/searches/67569557fb59fe045e380e3a/images/b7a07631ce8d9ecb8efd9241691fe6a3db2492a4b74f7cd1edcf5e4bc8f38b76.jpeg'}, {'title': 'Dudhsagar Falls', 'link': 'https://www.google.com#', 'description': 'Scenic spot', 'rating': 4.6, 'reviews': 29000, 'thumbnail': 'https://serpapi.com/searches/67569557fb59fe045e380e3a/images/b7a07631ce8d9ecb8efd9241691fe6a31fcfb26ba8e1b5d65f25465168c693a8.jpeg'}, {'title': 'Palolem Beach', 'link': 'https://www.google.com#', 'description': 'Beach', 'rating': 4.6, 'reviews': 28000, 'price': 'Free', 'thumbnail': 'https://serpapi.com/searches/67569557fb59fe045e380e3a/images/b7a07631ce8d9ecb8efd9241691fe6a3493e9ed16ecd579251bd6f375648002f.jpeg'}, {'title': 'Calangute Beach', 'link': 'https://www.google.com#', 'description': 'Beach', 'rating': 4.4, 'reviews': 28000, 'price': 'Free', 'thumbnail': 'https://serpapi.com/searches/67569557fb59fe045e380e3a/images/b7a07631ce8d9ecb8efd9241691fe6a33f4f692c4a0af8c8dbb1072569b009ee.jpeg'}, {'title': 'Agonda', 'link': 'https://www.google.com#', 'description': 'Locality', 'thumbnail': 'https://lh5.googleusercontent.com/p/AF1QipOXE8VeBnrICQMAKam1cWFehulAI6GZMX7MkWPv=w148-h148-n-k-no'}, {'title': 'Baga Beach', 'link': 'https://www.google.com#', 'description': 'Beach', 'rating': 4.4, 'reviews': 39000, 'price': 'Free', 'thumbnail': 'https://lh5.googleusercontent.com/p/AF1QipNQrYBvz5Kp_yHt2ZOohbofRz2tKMZT08QIa3bk=w148-h148-n-k-no'}, {'title': 'Arambol Beach', 'link': 'https://www.google.com#', 'description': 'Beach', 'rating': 4.6, 'reviews': 12000, 'price': 'Free', 'thumbnail': 'https://lh5.googleusercontent.com/p/AF1QipNwcXsrYJuEuP--TbwRtD4mQr_8zzZJzNk81ylx=w148-h148-n-k-no'}, {'title': 'Benaulim Beach', 'link': 'https://www.google.com#', 'description': 'Beach', 'rating': 4.5, 'reviews': 1100, 'thumbnail': 'https://lh5.googleusercontent.com/p/AF1QipM_4OTyd8xvUqqvFWNYV9OIaseVV94Wk5JF1bD3=w148-h148-n-k-no'}, {'title': 'Candolim Beach Road', 'link': 'https://www.google.com#', 'description': 'Notable street', 'rating': 4.6, 'reviews': 783, 'thumbnail': 'https://lh5.googleusercontent.com/p/AF1QipPZCAb-xQB9A_2UkBFjtjuo3aF-NujaBOhqMH0V=w148-h148-n-k-no'}, {'title': 'Aguada Fort', 'link': 'https://www.google.com#', 'description': 'Fortress', 'rating': 4.2, 'reviews': 101000, 'price': '$2.95', 'extracted_price': 2.95, 'thumbnail': 'https://lh5.googleusercontent.com/p/AF1QipPyOQWVMSddUhXtlQSW_oL9tn-aRXXX2kooR9P5=w148-h148-n-k-no'}, {'title': 'Shree Mangueshi Temple', 'link': 'https://www.google.com#', 'description': 'Hindu temple', 'rating': 4.6, 'reviews': 21000, 'price': 'Free', 'thumbnail': 'https://lh5.googleusercontent.com/p/AF1QipMv3P-sW5bJ_Re3lzJAdpefiMEi_sr0DUlnp0sI=w148-h148-n-k-no'}, {'title': 'Varca Beach', 'link': 'https://www.google.com#', 'description': 'Beach', 'rating': 4.5, 'reviews': 2100, 'thumbnail': 'https://lh5.googleusercontent.com/p/AF1QipPmgPm_9liBy3A3KnZxLUSxAL3CnBd4-_-lYDUm=w148-h148-n-k-no'}, {'title': 'Shree Shantadurga Temple', 'link': 'https://www.google.com#', 'description': 'Hindu temple', 'rating': 4.7, 'reviews': 7800, 'price': 'Free', 'thumbnail': 'https://lh5.googleusercontent.com/p/AF1QipMYTOzLiYUpu2q8szmOzwQF-fs3-f5M-Dm5WzOU=w148-h148-n-k-no'}, {'title': 'Reis Magos Fort', 'link': 'https://www.google.com#', 'description': 'Fortress', 'rating': 4.4, 'reviews': 11000, 'thumbnail': 'https://lh5.googleusercontent.com/p/AF1QipOU-9GxmJzHtOwdxis8QqeNdp6N03OCDHk8d_Gw=w148-h148-n-k-no'}, {'title': 'Se Cathedral', 'link': 'https://www.google.com#', 'description': 'Catholic cathedral', 'rating': 4.5, 'reviews': 6200, 'price': 'Free', 'thumbnail': 'https://lh3.googleusercontent.com/proxy/sEMAhbnCoUw4YivvzuODAWSCOAhbhMdZyD3RVNzAlIuSWDl2iKKFrdfrpcmncbX9yGRyspOu2kqP6OLWUwCL1vmxOUkY1dEFrl4hfjlbtYZuqKbgDE8fXIe2GnbbWkFOkKzHm3pPghWKO2VUfQBbFw_XzzLRQz0=w148-h148-n-k-no'}, {'title': 'Baga Beach', 'link': 'https://www.google.com#', 'description': 'Public beach', 'rating': 4.5, 'reviews': 40000, 'thumbnail': 'https://lh5.googleusercontent.com/p/AF1QipO4Xh2Sr7oWwMeUXsIsA1ZoAdGoK-8u13taq1hF=w148-h148-n-k-no'}, {'title': 'Immaculate Conception Church', 'link': 'https://www.google.com#', 'description': 'Catholic church', 'rating': 4.4, 'reviews': 25000, 'price': 'Free', 'thumbnail': 'https://lh5.googleusercontent.com/p/AF1QipNBMj79OwC6-OZJQT7dhQ0pF1X78LXn32__KVh_=w148-h148-n-k-no'}, {'title': 'Morjim Beach Road', 'link': 'https://www.google.com#', 'description': 'Route', 'thumbnail': 'https://lh5.googleusercontent.com/p/AF1QipMpPxwkxmun_piSvgS1SpS7Ig_RSKPRI7PfdjoX=w148-h148-n-k-no'}, {'title': 'Chapora Fort', 'link': 'https://www.google.com#', 'description': 'Fortress', 'rating': 4.2, 'reviews': 22000, 'price': 'Free', 'thumbnail': 'https://lh5.googleusercontent.com/p/AF1QipOq-EfAPO73QP0NqCS6k83_A2Ezf9azxxDVjcY=w148-h148-n-k-no'}, {'title': 'Cabo de Rama Fort', 'link': 'https://www.google.com#', 'description': 'Fortress', 'rating': 4.4, 'reviews': 14000, 'price': 'Free', 'thumbnail': 'https://lh5.googleusercontent.com/p/AF1QipOOs9Gbyl9Dbp8orkWj-A4Bimz1IASw6mEBOks0=w148-h148-n-k-no'}]\u001b[0m\n",
      "Thought:\u001b[32;1m\u001b[1;3mThought:\n",
      "I have the required information to create a travel plan.\n",
      "\n",
      "Action:\n",
      "```json\n",
      "{\n",
      "  \"action\": \"Final Answer\",\n",
      "  \"action_input\": {\n",
      "    \"vacation_plan\": {\n",
      "      \"destination\": \"Goa\",\n",
      "      \"dates\": \"24 Feb 2025 - 28 Feb 2025\",\n",
      "      \"flights\": \"Unfortunately, I do not have access to real-time data for flights and hotels. Please use online travel agencies or search engines like Kayak, Expedia, MakeMyTrip, or Google Flights to find flight and hotel options for your specified dates.\",\n",
      "      \"attractions_and_activities\": [\n",
      "        \"Basilica of Bom Jesus\",\n",
      "        \"Dudhsagar Falls\",\n",
      "        \"Palolem Beach\",\n",
      "        \"Calangute Beach\",\n",
      "        \"Agonda Beach\",\n",
      "        \"Baga Beach\",\n",
      "        \"Arambol Beach\",\n",
      "        \"Benaulim Beach\",\n",
      "        \"Candolim Beach Road\",\n",
      "        \"Aguada Fort\",\n",
      "        \"Shree Mangueshi Temple\",\n",
      "        \"Varca Beach\",\n",
      "        \"Shree Shantadurga Temple\",\n",
      "        \"Reis Magos Fort\",\n",
      "        \"Se Cathedral\",\n",
      "        \"Immaculate Conception Church\",\n",
      "        \"Morjim Beach Road\",\n",
      "        \"Chapora Fort\",\n",
      "        \"Cabo de Rama Fort\"\n",
      "      ]\n",
      "    }\n",
      "  }\n",
      "}\n",
      "```\u001b[0m\n",
      "\n",
      "\u001b[1m> Finished chain.\u001b[0m\n"
     ]
    },
    {
     "data": {
      "text/plain": [
       "{'vacation_plan': {'destination': 'Goa',\n",
       "  'dates': '24 Feb 2025 - 28 Feb 2025',\n",
       "  'flights': 'Unfortunately, I do not have access to real-time data for flights and hotels. Please use online travel agencies or search engines like Kayak, Expedia, MakeMyTrip, or Google Flights to find flight and hotel options for your specified dates.',\n",
       "  'attractions_and_activities': ['Basilica of Bom Jesus',\n",
       "   'Dudhsagar Falls',\n",
       "   'Palolem Beach',\n",
       "   'Calangute Beach',\n",
       "   'Agonda Beach',\n",
       "   'Baga Beach',\n",
       "   'Arambol Beach',\n",
       "   'Benaulim Beach',\n",
       "   'Candolim Beach Road',\n",
       "   'Aguada Fort',\n",
       "   'Shree Mangueshi Temple',\n",
       "   'Varca Beach',\n",
       "   'Shree Shantadurga Temple',\n",
       "   'Reis Magos Fort',\n",
       "   'Se Cathedral',\n",
       "   'Immaculate Conception Church',\n",
       "   'Morjim Beach Road',\n",
       "   'Chapora Fort',\n",
       "   'Cabo de Rama Fort']}}"
      ]
     },
     "execution_count": 21,
     "metadata": {},
     "output_type": "execute_result"
    }
   ],
   "source": [
    "agent.run(\n",
    "    \"Plan a vacation for me from mumbai to goa starting from 24 feb 2025 to 28 feb 2025\"\n",
    ")"
   ]
  },
  {
   "cell_type": "code",
   "execution_count": 6,
   "metadata": {},
   "outputs": [
    {
     "name": "stdout",
     "output_type": "stream",
     "text": [
      "input_variables=['dates', 'destination', 'source'] template='You are a travel planning assistant. When a user provides travel dates and a destination,\\nyour role is to gather information about available flight options for the specified dates and suggest popular attractions,\\nlandmarks, and activities at the destination. Provide clear and organized details on flights, including options based on convenience and budget, and \\nhighlight must-visit places that enhance the travel experience.\\n\\nTravel Dates: {dates}\\nSource: {source}\\nDestination: {destination}\\nAnswer:'\n"
     ]
    }
   ],
   "source": [
    "prompt = \"\"\"You are a travel planning assistant. When a user provides travel dates and a destination,\n",
    "your role is to gather information about available flight options for the specified dates and suggest popular attractions,\n",
    "landmarks, and activities at the destination. Provide clear and organized details on flights, including options based on convenience and budget, and \n",
    "highlight must-visit places that enhance the travel experience.\n",
    "\n",
    "Travel Dates: {dates}\n",
    "Source: {source}\n",
    "Destination: {destination}\n",
    "Answer:\"\"\"\n",
    "\n",
    "prompt_template = PromptTemplate.from_template(prompt)\n",
    "print(prompt_template)"
   ]
  },
  {
   "cell_type": "markdown",
   "metadata": {},
   "source": [
    "* https://www.pinecone.io/learn/series/langchain/langchain-tools/\n",
    "* https://www.kaggle.com/code/ilhansevval/build-custom-tools-using-agent-in-langchain"
   ]
  },
  {
   "cell_type": "code",
   "execution_count": null,
   "metadata": {},
   "outputs": [],
   "source": []
  }
 ],
 "metadata": {
  "kernelspec": {
   "display_name": "langchain",
   "language": "python",
   "name": "python3"
  },
  "language_info": {
   "codemirror_mode": {
    "name": "ipython",
    "version": 3
   },
   "file_extension": ".py",
   "mimetype": "text/x-python",
   "name": "python",
   "nbconvert_exporter": "python",
   "pygments_lexer": "ipython3",
   "version": "3.12.7"
  }
 },
 "nbformat": 4,
 "nbformat_minor": 2
}
