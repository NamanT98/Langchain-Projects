{
 "cells": [
  {
   "cell_type": "code",
   "execution_count": 1,
   "metadata": {},
   "outputs": [
    {
     "data": {
      "text/plain": [
       "True"
      ]
     },
     "execution_count": 1,
     "metadata": {},
     "output_type": "execute_result"
    }
   ],
   "source": [
    "import dotenv\n",
    "\n",
    "dotenv.load_dotenv()"
   ]
  },
  {
   "cell_type": "code",
   "execution_count": 3,
   "metadata": {},
   "outputs": [
    {
     "name": "stderr",
     "output_type": "stream",
     "text": [
      "d:\\courses_files\\Langchain\\Langchain-Projects\\env\\Lib\\site-packages\\tqdm\\auto.py:21: TqdmWarning: IProgress not found. Please update jupyter and ipywidgets. See https://ipywidgets.readthedocs.io/en/stable/user_install.html\n",
      "  from .autonotebook import tqdm as notebook_tqdm\n"
     ]
    }
   ],
   "source": [
    "from langchain import PromptTemplate\n",
    "from langchain.schema import StrOutputParser\n",
    "from langchain_core.runnables import RunnablePassthrough\n",
    "from langchain_google_genai import ChatGoogleGenerativeAI"
   ]
  },
  {
   "cell_type": "code",
   "execution_count": 5,
   "metadata": {},
   "outputs": [],
   "source": [
    "from langchain.agents import load_tools\n",
    "from langchain.agents import initialize_agent\n",
    "from langchain.agents import AgentType"
   ]
  },
  {
   "cell_type": "code",
   "execution_count": 4,
   "metadata": {},
   "outputs": [],
   "source": [
    "llm = ChatGoogleGenerativeAI(model=\"gemini-pro\")"
   ]
  },
  {
   "cell_type": "code",
   "execution_count": 25,
   "metadata": {},
   "outputs": [
    {
     "ename": "TypeError",
     "evalue": "unhashable type: 'StructuredTool'",
     "output_type": "error",
     "traceback": [
      "\u001b[1;31m---------------------------------------------------------------------------\u001b[0m",
      "\u001b[1;31mTypeError\u001b[0m                                 Traceback (most recent call last)",
      "Cell \u001b[1;32mIn[25], line 1\u001b[0m\n\u001b[1;32m----> 1\u001b[0m tools \u001b[38;5;241m=\u001b[39m \u001b[43mload_tools\u001b[49m\u001b[43m(\u001b[49m\u001b[43m[\u001b[49m\u001b[38;5;124;43m\"\u001b[39;49m\u001b[38;5;124;43mwikipedia\u001b[39;49m\u001b[38;5;124;43m\"\u001b[39;49m\u001b[43m,\u001b[49m\u001b[43m \u001b[49m\u001b[43mget_flight_and_hotel_data\u001b[49m\u001b[43m]\u001b[49m\u001b[43m,\u001b[49m\u001b[43m \u001b[49m\u001b[43mllm\u001b[49m\u001b[38;5;241;43m=\u001b[39;49m\u001b[43mllm\u001b[49m\u001b[43m)\u001b[49m\n",
      "File \u001b[1;32md:\\courses_files\\Langchain\\Langchain-Projects\\env\\Lib\\site-packages\\langchain_community\\agent_toolkits\\load_tools.py:705\u001b[0m, in \u001b[0;36mload_tools\u001b[1;34m(tool_names, llm, callbacks, allow_dangerous_tools, **kwargs)\u001b[0m\n\u001b[0;32m    701\u001b[0m callbacks \u001b[38;5;241m=\u001b[39m _handle_callbacks(\n\u001b[0;32m    702\u001b[0m     callback_manager\u001b[38;5;241m=\u001b[39mkwargs\u001b[38;5;241m.\u001b[39mget(\u001b[38;5;124m\"\u001b[39m\u001b[38;5;124mcallback_manager\u001b[39m\u001b[38;5;124m\"\u001b[39m), callbacks\u001b[38;5;241m=\u001b[39mcallbacks\n\u001b[0;32m    703\u001b[0m )\n\u001b[0;32m    704\u001b[0m \u001b[38;5;28;01mfor\u001b[39;00m name \u001b[38;5;129;01min\u001b[39;00m tool_names:\n\u001b[1;32m--> 705\u001b[0m     \u001b[38;5;28;01mif\u001b[39;00m \u001b[43mname\u001b[49m\u001b[43m \u001b[49m\u001b[38;5;129;43;01min\u001b[39;49;00m\u001b[43m \u001b[49m\u001b[43mDANGEROUS_TOOLS\u001b[49m \u001b[38;5;129;01mand\u001b[39;00m \u001b[38;5;129;01mnot\u001b[39;00m allow_dangerous_tools:\n\u001b[0;32m    706\u001b[0m         raise_dangerous_tools_exception(name)\n\u001b[0;32m    708\u001b[0m     \u001b[38;5;28;01mif\u001b[39;00m name \u001b[38;5;129;01min\u001b[39;00m {\u001b[38;5;124m\"\u001b[39m\u001b[38;5;124mrequests\u001b[39m\u001b[38;5;124m\"\u001b[39m}:\n",
      "\u001b[1;31mTypeError\u001b[0m: unhashable type: 'StructuredTool'"
     ]
    }
   ],
   "source": [
    "tools = load_tools([\"wikipedia\", get_flight_and_hotel_data], llm=llm)"
   ]
  },
  {
   "cell_type": "code",
   "execution_count": 28,
   "metadata": {},
   "outputs": [],
   "source": [
    "agent = initialize_agent(\n",
    "    tools,\n",
    "    llm,\n",
    "    agent=AgentType.STRUCTURED_CHAT_ZERO_SHOT_REACT_DESCRIPTION,\n",
    "    verbose=True,\n",
    ")"
   ]
  },
  {
   "cell_type": "code",
   "execution_count": 26,
   "metadata": {},
   "outputs": [],
   "source": [
    "tools.append(get_flight_and_hotel_data)"
   ]
  },
  {
   "cell_type": "code",
   "execution_count": 31,
   "metadata": {},
   "outputs": [
    {
     "data": {
      "text/plain": [
       "[SystemMessagePromptTemplate(prompt=PromptTemplate(input_variables=[], template='Respond to the human as helpfully and accurately as possible. You have access to the following tools:\\n\\nwikipedia: A wrapper around Wikipedia. Useful for when you need to answer general questions about people, places, companies, facts, historical events, or other subjects. Input should be a search query., args: {{\\'query\\': {{\\'title\\': \\'Query\\', \\'description\\': \\'query to look up on wikipedia\\', \\'type\\': \\'string\\'}}}}\\nCalculator: Useful for when you need to answer questions about math., args: {{\\'tool_input\\': {{\\'type\\': \\'string\\'}}}}\\nget_flight_and_hotel_data: Use this tool to get flight data and hotels data from source to destination., args: {{\\'source\\': {{\\'title\\': \\'Source\\', \\'description\\': \\'Name of the source of the journey\\', \\'type\\': \\'string\\'}}, \\'destination\\': {{\\'title\\': \\'Destination\\', \\'description\\': \\'Name of the destination of the journey\\', \\'type\\': \\'string\\'}}, \\'from_date\\': {{\\'title\\': \\'From Date\\', \\'description\\': \\'start date of journey from source to destination\\', \\'type\\': \\'string\\'}}, \\'to_date\\': {{\\'title\\': \\'To Date\\', \\'description\\': \\'return date from the destination to the source\\', \\'type\\': \\'string\\'}}}}\\n\\nUse a json blob to specify a tool by providing an action key (tool name) and an action_input key (tool input).\\n\\nValid \"action\" values: \"Final Answer\" or wikipedia, Calculator, get_flight_and_hotel_data\\n\\nProvide only ONE action per $JSON_BLOB, as shown:\\n\\n```\\n{{\\n  \"action\": $TOOL_NAME,\\n  \"action_input\": $INPUT\\n}}\\n```\\n\\nFollow this format:\\n\\nQuestion: input question to answer\\nThought: consider previous and subsequent steps\\nAction:\\n```\\n$JSON_BLOB\\n```\\nObservation: action result\\n... (repeat Thought/Action/Observation N times)\\nThought: I know what to respond\\nAction:\\n```\\n{{\\n  \"action\": \"Final Answer\",\\n  \"action_input\": \"Final response to human\"\\n}}\\n```\\n\\nBegin! Reminder to ALWAYS respond with a valid json blob of a single action. Use tools if necessary. Respond directly if appropriate. Format is Action:```$JSON_BLOB```then Observation:.\\nThought:')),\n",
       " HumanMessagePromptTemplate(prompt=PromptTemplate(input_variables=['agent_scratchpad', 'input'], template='{input}\\n\\n{agent_scratchpad}'))]"
      ]
     },
     "execution_count": 31,
     "metadata": {},
     "output_type": "execute_result"
    }
   ],
   "source": [
    "agent.agent.llm_chain.prompt.messages"
   ]
  },
  {
   "cell_type": "code",
   "execution_count": 6,
   "metadata": {},
   "outputs": [
    {
     "name": "stdout",
     "output_type": "stream",
     "text": [
      "input_variables=['dates', 'destination', 'source'] template='You are a travel planning assistant. When a user provides travel dates and a destination,\\nyour role is to gather information about available flight options for the specified dates and suggest popular attractions,\\nlandmarks, and activities at the destination. Provide clear and organized details on flights, including options based on convenience and budget, and \\nhighlight must-visit places that enhance the travel experience.\\n\\nTravel Dates: {dates}\\nSource: {source}\\nDestination: {destination}\\nAnswer:'\n"
     ]
    }
   ],
   "source": [
    "prompt = \"\"\"You are a travel planning assistant. When a user provides travel dates and a destination,\n",
    "your role is to gather information about available flight options for the specified dates and suggest popular attractions,\n",
    "landmarks, and activities at the destination. Provide clear and organized details on flights, including options based on convenience and budget, and \n",
    "highlight must-visit places that enhance the travel experience.\n",
    "\n",
    "Travel Dates: {dates}\n",
    "Source: {source}\n",
    "Destination: {destination}\n",
    "Answer:\"\"\"\n",
    "\n",
    "prompt_template = PromptTemplate.from_template(prompt)\n",
    "print(prompt_template)"
   ]
  },
  {
   "cell_type": "code",
   "execution_count": 7,
   "metadata": {},
   "outputs": [],
   "source": [
    "from langchain.agents import ConversationalChatAgent, Tool, AgentExecutor"
   ]
  },
  {
   "cell_type": "code",
   "execution_count": 13,
   "metadata": {},
   "outputs": [],
   "source": [
    "from langchain_core.tools import tool\n",
    "\n",
    "\n",
    "@tool(parse_docstring=True)\n",
    "def get_flight_and_hotel_data(\n",
    "    source: str, destination: str, from_date: str, to_date: str\n",
    ") -> str:\n",
    "    \"\"\"Use this tool to get flight data and hotels data from source to destination.\n",
    "\n",
    "    Args:\n",
    "        source: Name of the source of the journey\n",
    "        destination: Name of the destination of the journey\n",
    "        from_date: start date of journey from source to destination\n",
    "        to_date: return date from the destination to the source\"\"\"\n",
    "    return \"Data\""
   ]
  },
  {
   "cell_type": "code",
   "execution_count": 15,
   "metadata": {},
   "outputs": [
    {
     "name": "stdout",
     "output_type": "stream",
     "text": [
      "get_flight_and_hotel_data\n",
      "Use this tool to get flight data and hotels data from source to destination.\n",
      "{'source': {'title': 'Source', 'description': 'Name of the source of the journey', 'type': 'string'}, 'destination': {'title': 'Destination', 'description': 'Name of the destination of the journey', 'type': 'string'}, 'from_date': {'title': 'From Date', 'description': 'start date of journey from source to destination', 'type': 'string'}, 'to_date': {'title': 'To Date', 'description': 'return date from the destination to the source', 'type': 'string'}}\n"
     ]
    }
   ],
   "source": [
    "print(get_flight_and_hotel_data.name)\n",
    "print(get_flight_and_hotel_data.description)\n",
    "print(get_flight_and_hotel_data.args)"
   ]
  },
  {
   "cell_type": "markdown",
   "metadata": {},
   "source": [
    "* https://www.pinecone.io/learn/series/langchain/langchain-tools/\n",
    "* https://www.kaggle.com/code/ilhansevval/build-custom-tools-using-agent-in-langchain"
   ]
  },
  {
   "cell_type": "code",
   "execution_count": null,
   "metadata": {},
   "outputs": [],
   "source": []
  }
 ],
 "metadata": {
  "kernelspec": {
   "display_name": "env",
   "language": "python",
   "name": "python3"
  },
  "language_info": {
   "codemirror_mode": {
    "name": "ipython",
    "version": 3
   },
   "file_extension": ".py",
   "mimetype": "text/x-python",
   "name": "python",
   "nbconvert_exporter": "python",
   "pygments_lexer": "ipython3",
   "version": "3.11.6"
  }
 },
 "nbformat": 4,
 "nbformat_minor": 2
}
