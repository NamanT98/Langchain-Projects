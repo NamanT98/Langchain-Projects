{
 "cells": [
  {
   "cell_type": "code",
   "execution_count": 22,
   "metadata": {},
   "outputs": [
    {
     "data": {
      "text/plain": [
       "True"
      ]
     },
     "execution_count": 22,
     "metadata": {},
     "output_type": "execute_result"
    }
   ],
   "source": [
    "import dotenv\n",
    "\n",
    "dotenv.load_dotenv()"
   ]
  },
  {
   "cell_type": "code",
   "execution_count": 2,
   "metadata": {},
   "outputs": [
    {
     "name": "stderr",
     "output_type": "stream",
     "text": [
      "d:\\courses_files\\Langchain\\Langchain-Projects\\env\\Lib\\site-packages\\tqdm\\auto.py:21: TqdmWarning: IProgress not found. Please update jupyter and ipywidgets. See https://ipywidgets.readthedocs.io/en/stable/user_install.html\n",
      "  from .autonotebook import tqdm as notebook_tqdm\n"
     ]
    }
   ],
   "source": [
    "from langchain import PromptTemplate\n",
    "from langchain.schema import StrOutputParser\n",
    "from langchain_core.runnables import RunnablePassthrough\n",
    "from langchain_google_genai import ChatGoogleGenerativeAI"
   ]
  },
  {
   "cell_type": "code",
   "execution_count": 3,
   "metadata": {},
   "outputs": [],
   "source": [
    "from langchain.agents import load_tools\n",
    "from langchain.agents import initialize_agent\n",
    "from langchain.agents import AgentType"
   ]
  },
  {
   "cell_type": "code",
   "execution_count": 11,
   "metadata": {},
   "outputs": [],
   "source": [
    "llm = ChatGoogleGenerativeAI(model=\"gemini-1.5-pro-latest\")"
   ]
  },
  {
   "cell_type": "code",
   "execution_count": 5,
   "metadata": {},
   "outputs": [],
   "source": [
    "from langchain.tools import BaseTool\n",
    "from math import pi\n",
    "from typing import Union\n",
    "\n",
    "\n",
    "class FlightAndHotelData(BaseTool):\n",
    "    name = \"Flight and Hotel data collector\"\n",
    "    description = \"use this tool when you need the information about the flight and hotel from source to destination\"\n",
    "\n",
    "    def _run(self, source: str, destination: str, from_date: str, to_date: str) -> str:\n",
    "        return \"Data\"\n",
    "\n",
    "    def _arun(self, radius: int):\n",
    "        raise NotImplementedError(\"This tool does not support async\")"
   ]
  },
  {
   "cell_type": "code",
   "execution_count": 28,
   "metadata": {},
   "outputs": [],
   "source": [
    "tools = [load_tools([\"serpapi\"])[0], FlightAndHotelData()]"
   ]
  },
  {
   "cell_type": "code",
   "execution_count": 33,
   "metadata": {},
   "outputs": [],
   "source": [
    "tools[0].description = (\n",
    "    \"A search engine. Useful when you need to find information about anything. Use this to find popular attractions, landmarks, and activities at the destination. Input should be a search query.\"\n",
    ")"
   ]
  },
  {
   "cell_type": "code",
   "execution_count": 34,
   "metadata": {},
   "outputs": [],
   "source": [
    "agent = initialize_agent(\n",
    "    agent=AgentType.STRUCTURED_CHAT_ZERO_SHOT_REACT_DESCRIPTION,\n",
    "    tools=tools,\n",
    "    llm=llm,\n",
    "    verbose=True,\n",
    "    max_iterations=3,\n",
    "    early_stopping_method=\"generate\",\n",
    ")"
   ]
  },
  {
   "cell_type": "code",
   "execution_count": 30,
   "metadata": {},
   "outputs": [
    {
     "name": "stdout",
     "output_type": "stream",
     "text": [
      "\n",
      "\n",
      "\u001b[1m> Entering new AgentExecutor chain...\u001b[0m\n",
      "\u001b[32;1m\u001b[1;3mThought:\n",
      "I can use the Flight and Hotel data collector tool to get this information.\n",
      "\n",
      "Action:\n",
      "```json\n",
      "{\n",
      "  \"action\": \"Flight and Hotel data collector\",\n",
      "  \"action_input\": {\n",
      "    \"source\": \"bombay\",\n",
      "    \"destination\": \"goa\",\n",
      "    \"from_date\": \"24 feb 2025\",\n",
      "    \"to_date\": \"28 feb 2025\"\n",
      "  }\n",
      "}\n",
      "```\u001b[0m\n",
      "Observation: \u001b[33;1m\u001b[1;3mData\u001b[0m\n",
      "Thought:\u001b[32;1m\u001b[1;3mThought:\n",
      "I can use the Flight and Hotel data collector tool to get this information.\n",
      "\n",
      "Action:\n",
      "```json\n",
      "{\n",
      "  \"action\": \"Flight and Hotel data collector\",\n",
      "  \"action_input\": {\n",
      "    \"source\": \"bombay\",\n",
      "    \"destination\": \"goa\",\n",
      "    \"from_date\": \"24 feb 2025\",\n",
      "    \"to_date\": \"28 feb 2025\"\n",
      "  }\n",
      "}\n",
      "```\u001b[0m\n",
      "Observation: \u001b[33;1m\u001b[1;3mData\u001b[0m\n",
      "Thought:\u001b[32;1m\u001b[1;3mThought:\n",
      "I can use the Flight and Hotel data collector tool to get this information.\n",
      "\n",
      "Action:\n",
      "```json\n",
      "{\n",
      "  \"action\": \"Flight and Hotel data collector\",\n",
      "  \"action_input\": {\n",
      "    \"source\": \"bombay\",\n",
      "    \"destination\": \"goa\",\n",
      "    \"from_date\": \"24 feb 2025\",\n",
      "    \"to_date\": \"28 feb 2025\"\n",
      "  }\n",
      "}\n",
      "```\u001b[0m\n",
      "Observation: \u001b[33;1m\u001b[1;3mData\u001b[0m\n",
      "Thought:\u001b[32;1m\u001b[1;3mAction:\n",
      "```json\n",
      "{\n",
      "  \"action\": \"Final Answer\",\n",
      "  \"action_input\": \"I am sorry, I cannot fulfill this request. The Flight and Hotel data collector tool returned no results.\"\n",
      "}\n",
      "```\u001b[0m\n",
      "\n",
      "\u001b[1m> Finished chain.\u001b[0m\n"
     ]
    },
    {
     "data": {
      "text/plain": [
       "'I am sorry, I cannot fulfill this request. The Flight and Hotel data collector tool returned no results.'"
      ]
     },
     "execution_count": 30,
     "metadata": {},
     "output_type": "execute_result"
    }
   ],
   "source": [
    "agent.run(\"Can you tell me flight from bombay to goa on 24 feb 2025 to 28 feb 2025 ?\")"
   ]
  },
  {
   "cell_type": "code",
   "execution_count": 35,
   "metadata": {},
   "outputs": [
    {
     "name": "stdout",
     "output_type": "stream",
     "text": [
      "Respond to the human as helpfully and accurately as possible. You have access to the following tools:\n",
      "\n",
      "Search: A search engine. Useful when you need to find information about anything. Use this to find popular attractions, landmarks, and activities at the destination. Input should be a search query., args: {{'tool_input': {{'type': 'string'}}}}\n",
      "Flight and Hotel data collector: use this tool when you need the information about the flight and hotel from source to destination, args: {{'source': {{'title': 'Source', 'type': 'string'}}, 'destination': {{'title': 'Destination', 'type': 'string'}}, 'from_date': {{'title': 'From Date', 'type': 'string'}}, 'to_date': {{'title': 'To Date', 'type': 'string'}}}}\n",
      "\n",
      "Use a json blob to specify a tool by providing an action key (tool name) and an action_input key (tool input).\n",
      "\n",
      "Valid \"action\" values: \"Final Answer\" or Search, Flight and Hotel data collector\n",
      "\n",
      "Provide only ONE action per $JSON_BLOB, as shown:\n",
      "\n",
      "```\n",
      "{{\n",
      "  \"action\": $TOOL_NAME,\n",
      "  \"action_input\": $INPUT\n",
      "}}\n",
      "```\n",
      "\n",
      "Follow this format:\n",
      "\n",
      "Question: input question to answer\n",
      "Thought: consider previous and subsequent steps\n",
      "Action:\n",
      "```\n",
      "$JSON_BLOB\n",
      "```\n",
      "Observation: action result\n",
      "... (repeat Thought/Action/Observation N times)\n",
      "Thought: I know what to respond\n",
      "Action:\n",
      "```\n",
      "{{\n",
      "  \"action\": \"Final Answer\",\n",
      "  \"action_input\": \"Final response to human\"\n",
      "}}\n",
      "```\n",
      "\n",
      "Begin! Reminder to ALWAYS respond with a valid json blob of a single action. Use tools if necessary. Respond directly if appropriate. Format is Action:```$JSON_BLOB```then Observation:.\n",
      "Thought:\n"
     ]
    }
   ],
   "source": [
    "a = agent.agent.llm_chain.prompt.messages[0].prompt.template\n",
    "print(a)"
   ]
  },
  {
   "cell_type": "code",
   "execution_count": 36,
   "metadata": {},
   "outputs": [],
   "source": [
    "with open(\"prompt.txt\", \"w\") as f:\n",
    "    f.write(a)"
   ]
  },
  {
   "cell_type": "code",
   "execution_count": 37,
   "metadata": {},
   "outputs": [],
   "source": [
    "with open(\"prompt.txt\", \"r\") as f:\n",
    "    prompt = f.read()"
   ]
  },
  {
   "cell_type": "code",
   "execution_count": 38,
   "metadata": {},
   "outputs": [],
   "source": [
    "agent.agent.llm_chain.prompt.messages[0].prompt.template = prompt"
   ]
  },
  {
   "cell_type": "code",
   "execution_count": 39,
   "metadata": {},
   "outputs": [
    {
     "name": "stdout",
     "output_type": "stream",
     "text": [
      "\n",
      "\n",
      "\u001b[1m> Entering new AgentExecutor chain...\u001b[0m\n",
      "\u001b[32;1m\u001b[1;3mThought:\n",
      "I need to search for flights and accommodation options for the specified dates and destination, and also gather information about popular attractions and activities in Goa.\n",
      "\n",
      "Action:\n",
      "```\n",
      "{\n",
      "  \"action\": \"Flight and Hotel data collector\",\n",
      "  \"action_input\": {\n",
      "    \"source\": \"Mumbai\",\n",
      "    \"destination\": \"Goa\",\n",
      "    \"from_date\": \"24 Feb 2025\",\n",
      "    \"to_date\": \"28 Feb 2025\"\n",
      "  }\n",
      "}\n",
      "```\u001b[0m\n",
      "Observation: \u001b[33;1m\u001b[1;3mData\u001b[0m\n",
      "Thought:\u001b[32;1m\u001b[1;3mThought:\n",
      "I have the flight and hotel data. Now I need to find some popular attractions, landmarks, and activities in Goa.\n",
      "\n",
      "Action:\n",
      "```json\n",
      "{\n",
      "  \"action\": \"Search\",\n",
      "  \"action_input\": \"popular attractions, landmarks, and activities in Goa\"\n",
      "}\n",
      "```\u001b[0m\n",
      "Observation: \u001b[36;1m\u001b[1;3m[{'title': 'Basilica of Bom Jesus', 'link': 'https://www.google.com#', 'description': 'Basilica', 'rating': 4.5, 'reviews': 61000, 'price': 'Free', 'thumbnail': 'https://serpapi.com/searches/673388d0f60b6fc541c7e195/images/602d7a5f2157dcd23416b592f665a4b370eb59bf0b027f0bed9efb873a03fa56.jpeg'}, {'title': 'Dudhsagar Falls', 'link': 'https://www.google.com#', 'description': 'Scenic spot', 'rating': 4.6, 'reviews': 29000, 'thumbnail': 'https://serpapi.com/searches/673388d0f60b6fc541c7e195/images/602d7a5f2157dcd23416b592f665a4b3fc226c253f9a67721e8e658f82a89aea.jpeg'}, {'title': 'Shree Mangueshi Temple', 'link': 'https://www.google.com#', 'description': 'Hindu temple', 'rating': 4.6, 'reviews': 21000, 'price': 'Free', 'thumbnail': 'https://serpapi.com/searches/673388d0f60b6fc541c7e195/images/602d7a5f2157dcd23416b592f665a4b33980b3a3673ac2f16dff709aa8c28690.jpeg'}, {'title': 'Cabo de Rama Fort', 'link': 'https://www.google.com#', 'description': 'Fortress', 'rating': 4.4, 'reviews': 13000, 'price': 'Free', 'thumbnail': 'https://serpapi.com/searches/673388d0f60b6fc541c7e195/images/602d7a5f2157dcd23416b592f665a4b32063a7d9ceb5be484d5bfab0b9eb4595.jpeg'}, {'title': 'Immaculate Conception Church', 'link': 'https://www.google.com#', 'description': 'Catholic church', 'rating': 4.4, 'reviews': 25000, 'price': 'Free', 'thumbnail': 'https://lh5.googleusercontent.com/p/AF1QipNBMj79OwC6-OZJQT7dhQ0pF1X78LXn32__KVh_=w148-h148-n-k-no'}, {'title': 'Se Cathedral', 'link': 'https://www.google.com#', 'description': 'Catholic cathedral', 'rating': 4.5, 'reviews': 6100, 'price': 'Free', 'thumbnail': 'https://lh3.googleusercontent.com/proxy/sEMAhbnCoUw4YivvzuODAWSCOAhbhMdZyD3RVNzAlIuSWDl2iKKFrdfrpcmncbX9yGRyspOu2kqP6OLWUwCL1vmxOUkY1dEFrl4hfjlbtYZuqKbgDE8fXIe2GnbbWkFOkKzHm3pPghWKO2VUfQBbFw_XzzLRQz0=w148-h148-n-k-no'}, {'title': 'Sinquerim Beach', 'link': 'https://www.google.com#', 'description': 'Beach', 'rating': 4.5, 'reviews': 22000, 'price': 'Free', 'thumbnail': 'https://lh5.googleusercontent.com/p/AF1QipPTksyq0si0nO_hTlTIM2n9rIqCRzvV5p7-nqEH=w148-h148-n-k-no'}, {'title': 'Shree Shantadurga Temple', 'link': 'https://www.google.com#', 'description': 'Hindu temple', 'rating': 4.7, 'reviews': 7800, 'price': 'Free', 'thumbnail': 'https://lh5.googleusercontent.com/p/AF1QipMYTOzLiYUpu2q8szmOzwQF-fs3-f5M-Dm5WzOU=w148-h148-n-k-no'}, {'title': 'Reis Magos Fort', 'link': 'https://www.google.com#', 'description': 'Fortress', 'rating': 4.4, 'reviews': 11000, 'thumbnail': 'https://lh5.googleusercontent.com/p/AF1QipOU-9GxmJzHtOwdxis8QqeNdp6N03OCDHk8d_Gw=w148-h148-n-k-no'}, {'title': 'Shri Mahalasa Narayani Temple', 'link': 'https://www.google.com#', 'description': 'Hindu temple', 'rating': 4.8, 'reviews': 6700, 'thumbnail': 'https://lh5.googleusercontent.com/p/AF1QipPim-bNSKQn1wi9INiO7em3tAQ0durxrm2RRM3P=w148-h148-n-k-no'}, {'title': 'Kadamba Shri Mahadeva Temple, Tambdisurla', 'link': 'https://www.google.com#', 'description': 'Hindu temple', 'rating': 4.8, 'reviews': 4500, 'price': 'Free', 'thumbnail': 'https://lh5.googleusercontent.com/p/AF1QipNJWIF8Dmzy9S9k9MsYEa9oaAx_dXeMUKme4eoh=w148-h148-n-k-no'}, {'title': 'Baga Beach', 'link': 'https://www.google.com#', 'description': 'Public beach', 'rating': 4.5, 'reviews': 40000, 'thumbnail': 'https://lh5.googleusercontent.com/p/AF1QipPNQ6C32oeP0Vucq9OpLKwkwtrSR9ybyq1HClje=w148-h148-n-k-no'}, {'title': 'Big Daddy Casino', 'link': 'https://www.google.com#', 'description': 'Casino', 'rating': 4.4, 'reviews': 29000, 'thumbnail': 'https://lh5.googleusercontent.com/p/AF1QipNYMwvk23lgqI7CChhs4dYUMrxR6zvcN4_ZHy1z=w148-h148-n-k-no'}, {'title': 'Church of St. Francis of Assisi', 'link': 'https://www.google.com#', 'description': 'Catholic church', 'rating': 4.5, 'reviews': 4500, 'price': 'Free', 'thumbnail': 'https://lh5.googleusercontent.com/p/AF1QipMlpnU2M-gi8Rz1q2zvbM2Tgy28x7Bb8p1zlUeD=w148-h148-n-k-no'}, {'title': 'Chapora Fort', 'link': 'https://www.google.com#', 'description': 'Fortress', 'rating': 4.2, 'reviews': 22000, 'price': 'Free', 'thumbnail': 'https://lh5.googleusercontent.com/p/AF1QipMal-fd0z6TaAZh--dV-AsqPHKl2dqCoHUWzi12=w148-h148-n-k-no'}, {'title': 'Taj Fort Aguada Resort & Spa, Goa', 'link': 'https://www.google.com#', 'description': 'Resort hotel', 'rating': 4.7, 'reviews': 6800, 'thumbnail': 'https://lh5.googleusercontent.com/p/AF1QipNUiSfFfP0Cu8qZWcRb3lcL--4E-foDgezAhfDE=w148-h148-n-k-no'}, {'title': 'Aguada Fort', 'link': 'https://www.google.com#', 'description': 'Fortress', 'rating': 4.2, 'reviews': 100000, 'price': '$2.96', 'extracted_price': 2.96, 'thumbnail': 'https://lh5.googleusercontent.com/p/AF1QipPyOQWVMSddUhXtlQSW_oL9tn-aRXXX2kooR9P5=w148-h148-n-k-no'}, {'title': 'Harvalem Waterfalls', 'link': 'https://www.google.com#', 'description': 'Tourist attraction', 'rating': 4.3, 'reviews': 8500, 'thumbnail': 'https://lh5.googleusercontent.com/p/AF1QipOIk4ymFWMYFfoe9wfsp282W3jdxIlC23zQV9Rr=w148-h148-n-k-no'}, {'title': 'St. Augustine Tower', 'link': 'https://www.google.com#', 'description': 'Historical landmark', 'rating': 4.5, 'reviews': 3500, 'thumbnail': 'https://lh5.googleusercontent.com/p/AF1QipNt_jGaEM1AXGiLcYs_GzL0gNCWygsTYuLqTBvY=w148-h148-n-k-no'}, {'title': 'Three Kings Chapel', 'link': 'https://www.google.com#', 'description': 'Chapel', 'rating': 4.3, 'reviews': 2800, 'price': 'Free', 'thumbnail': 'https://lh5.googleusercontent.com/p/AF1QipNpSDtAtxQdUjc7ioe2_XDdnZiMfN-ao4D7_XEi=w148-h148-n-k-no'}]\u001b[0m\n",
      "Thought:\u001b[32;1m\u001b[1;3mThought:\n",
      "I have all the required information to create a travel plan.\n",
      "\n",
      "Action:\n",
      "```json\n",
      "{\n",
      "  \"action\": \"Final Answer\",\n",
      "  \"action_input\": {\n",
      "    \"trip_plan\": {\n",
      "      \"destination\": \"Goa\",\n",
      "      \"dates\": \"24 Feb 2025 - 28 Feb 2025\",\n",
      "      \"flights\": \"Flight details were not available. Please use a flight search engine to find flights from Mumbai to Goa for your specified dates.\",\n",
      "      \"attractions_and_activities\": [\n",
      "        \"Basilica of Bom Jesus\",\n",
      "        \"Dudhsagar Falls\",\n",
      "        \"Shree Mangueshi Temple\",\n",
      "        \"Cabo de Rama Fort\",\n",
      "        \"Immaculate Conception Church\",\n",
      "        \"Se Cathedral\",\n",
      "        \"Sinquerim Beach\",\n",
      "        \"Shree Shantadurga Temple\",\n",
      "        \"Reis Magos Fort\",\n",
      "        \"Shri Mahalasa Narayani Temple\",\n",
      "        \"Kadamba Shri Mahadeva Temple, Tambdisurla\",\n",
      "        \"Baga Beach\",\n",
      "        \"Big Daddy Casino\",\n",
      "        \"Church of St. Francis of Assisi\",\n",
      "        \"Chapora Fort\",\n",
      "        \"Aguada Fort\",\n",
      "        \"Harvalem Waterfalls\",\n",
      "        \"St. Augustine Tower\",\n",
      "        \"Three Kings Chapel\"\n",
      "      ]\n",
      "    }\n",
      "  }\n",
      "}\n",
      "```\u001b[0m\n",
      "\n",
      "\u001b[1m> Finished chain.\u001b[0m\n"
     ]
    },
    {
     "data": {
      "text/plain": [
       "{'trip_plan': {'destination': 'Goa',\n",
       "  'dates': '24 Feb 2025 - 28 Feb 2025',\n",
       "  'flights': 'Flight details were not available. Please use a flight search engine to find flights from Mumbai to Goa for your specified dates.',\n",
       "  'attractions_and_activities': ['Basilica of Bom Jesus',\n",
       "   'Dudhsagar Falls',\n",
       "   'Shree Mangueshi Temple',\n",
       "   'Cabo de Rama Fort',\n",
       "   'Immaculate Conception Church',\n",
       "   'Se Cathedral',\n",
       "   'Sinquerim Beach',\n",
       "   'Shree Shantadurga Temple',\n",
       "   'Reis Magos Fort',\n",
       "   'Shri Mahalasa Narayani Temple',\n",
       "   'Kadamba Shri Mahadeva Temple, Tambdisurla',\n",
       "   'Baga Beach',\n",
       "   'Big Daddy Casino',\n",
       "   'Church of St. Francis of Assisi',\n",
       "   'Chapora Fort',\n",
       "   'Aguada Fort',\n",
       "   'Harvalem Waterfalls',\n",
       "   'St. Augustine Tower',\n",
       "   'Three Kings Chapel']}}"
      ]
     },
     "execution_count": 39,
     "metadata": {},
     "output_type": "execute_result"
    }
   ],
   "source": [
    "agent.run(\n",
    "    \"Plan a vacation for me from mumbai to goa starting from 24 feb 2025 to 28 feb 2025\"\n",
    ")"
   ]
  },
  {
   "cell_type": "code",
   "execution_count": 6,
   "metadata": {},
   "outputs": [
    {
     "name": "stdout",
     "output_type": "stream",
     "text": [
      "input_variables=['dates', 'destination', 'source'] template='You are a travel planning assistant. When a user provides travel dates and a destination,\\nyour role is to gather information about available flight options for the specified dates and suggest popular attractions,\\nlandmarks, and activities at the destination. Provide clear and organized details on flights, including options based on convenience and budget, and \\nhighlight must-visit places that enhance the travel experience.\\n\\nTravel Dates: {dates}\\nSource: {source}\\nDestination: {destination}\\nAnswer:'\n"
     ]
    }
   ],
   "source": [
    "prompt = \"\"\"You are a travel planning assistant. When a user provides travel dates and a destination,\n",
    "your role is to gather information about available flight options for the specified dates and suggest popular attractions,\n",
    "landmarks, and activities at the destination. Provide clear and organized details on flights, including options based on convenience and budget, and \n",
    "highlight must-visit places that enhance the travel experience.\n",
    "\n",
    "Travel Dates: {dates}\n",
    "Source: {source}\n",
    "Destination: {destination}\n",
    "Answer:\"\"\"\n",
    "\n",
    "prompt_template = PromptTemplate.from_template(prompt)\n",
    "print(prompt_template)"
   ]
  },
  {
   "cell_type": "code",
   "execution_count": 7,
   "metadata": {},
   "outputs": [],
   "source": [
    "from langchain.agents import ConversationalChatAgent, Tool, AgentExecutor"
   ]
  },
  {
   "cell_type": "code",
   "execution_count": 13,
   "metadata": {},
   "outputs": [],
   "source": [
    "from langchain_core.tools import tool\n",
    "\n",
    "\n",
    "@tool(parse_docstring=True)\n",
    "def get_flight_and_hotel_data(\n",
    "    source: str, destination: str, from_date: str, to_date: str\n",
    ") -> str:\n",
    "    \"\"\"Use this tool to get flight data and hotels data from source to destination.\n",
    "\n",
    "    Args:\n",
    "        source: Name of the source of the journey\n",
    "        destination: Name of the destination of the journey\n",
    "        from_date: start date of journey from source to destination\n",
    "        to_date: return date from the destination to the source\"\"\"\n",
    "    return \"Data\""
   ]
  },
  {
   "cell_type": "code",
   "execution_count": 15,
   "metadata": {},
   "outputs": [
    {
     "name": "stdout",
     "output_type": "stream",
     "text": [
      "get_flight_and_hotel_data\n",
      "Use this tool to get flight data and hotels data from source to destination.\n",
      "{'source': {'title': 'Source', 'description': 'Name of the source of the journey', 'type': 'string'}, 'destination': {'title': 'Destination', 'description': 'Name of the destination of the journey', 'type': 'string'}, 'from_date': {'title': 'From Date', 'description': 'start date of journey from source to destination', 'type': 'string'}, 'to_date': {'title': 'To Date', 'description': 'return date from the destination to the source', 'type': 'string'}}\n"
     ]
    }
   ],
   "source": [
    "print(get_flight_and_hotel_data.name)\n",
    "print(get_flight_and_hotel_data.description)\n",
    "print(get_flight_and_hotel_data.args)"
   ]
  },
  {
   "cell_type": "markdown",
   "metadata": {},
   "source": [
    "* https://www.pinecone.io/learn/series/langchain/langchain-tools/\n",
    "* https://www.kaggle.com/code/ilhansevval/build-custom-tools-using-agent-in-langchain"
   ]
  },
  {
   "cell_type": "code",
   "execution_count": null,
   "metadata": {},
   "outputs": [],
   "source": []
  }
 ],
 "metadata": {
  "kernelspec": {
   "display_name": "env",
   "language": "python",
   "name": "python3"
  },
  "language_info": {
   "codemirror_mode": {
    "name": "ipython",
    "version": 3
   },
   "file_extension": ".py",
   "mimetype": "text/x-python",
   "name": "python",
   "nbconvert_exporter": "python",
   "pygments_lexer": "ipython3",
   "version": "3.11.6"
  }
 },
 "nbformat": 4,
 "nbformat_minor": 2
}
